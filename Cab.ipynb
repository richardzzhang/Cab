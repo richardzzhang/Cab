{
 "cells": [
  {
   "cell_type": "markdown",
   "metadata": {},
   "source": [
    "# Importing libraries, datasets and pre-processing data"
   ]
  },
  {
   "cell_type": "code",
   "execution_count": 1,
   "metadata": {},
   "outputs": [],
   "source": [
    "import pandas as pd\n",
    "import numpy as np\n",
    "import matplotlib.pyplot as plt\n",
    "from datetime import datetime\n",
    "from datetime import date,timedelta\n",
    "from datetime import date\n",
    "import locale\n",
    "from locale import atof"
   ]
  },
  {
   "cell_type": "code",
   "execution_count": 2,
   "metadata": {},
   "outputs": [],
   "source": [
    "df_cab = pd.read_csv('Cab_Data.csv')\n",
    "df_city = pd.read_csv('City.csv')\n",
    "df_cusid = pd.read_csv('Customer_ID.csv')\n",
    "df_transid = pd.read_csv('Transaction_ID.csv')\n",
    "df_holiday= pd.read_csv('Holiday.csv')"
   ]
  },
  {
   "cell_type": "code",
   "execution_count": 3,
   "metadata": {},
   "outputs": [
    {
     "name": "stderr",
     "output_type": "stream",
     "text": [
      "C:\\Users\\Ruizhe Zhang\\AppData\\Local\\Temp\\ipykernel_35920\\4241785755.py:2: SettingWithCopyWarning: \n",
      "A value is trying to be set on a copy of a slice from a DataFrame\n",
      "\n",
      "See the caveats in the documentation: https://pandas.pydata.org/pandas-docs/stable/user_guide/indexing.html#returning-a-view-versus-a-copy\n",
      "  df_cab['Date of Travel'][i] = date(1900,1,1)+timedelta(int(df_cab['Date of Travel'][i])-2)\n"
     ]
    },
    {
     "data": {
      "text/html": [
       "<div>\n",
       "<style scoped>\n",
       "    .dataframe tbody tr th:only-of-type {\n",
       "        vertical-align: middle;\n",
       "    }\n",
       "\n",
       "    .dataframe tbody tr th {\n",
       "        vertical-align: top;\n",
       "    }\n",
       "\n",
       "    .dataframe thead th {\n",
       "        text-align: right;\n",
       "    }\n",
       "</style>\n",
       "<table border=\"1\" class=\"dataframe\">\n",
       "  <thead>\n",
       "    <tr style=\"text-align: right;\">\n",
       "      <th></th>\n",
       "      <th>Transaction ID</th>\n",
       "      <th>Date of Travel</th>\n",
       "      <th>Company</th>\n",
       "      <th>City</th>\n",
       "      <th>KM Travelled</th>\n",
       "      <th>Price Charged</th>\n",
       "      <th>Cost of Trip</th>\n",
       "    </tr>\n",
       "  </thead>\n",
       "  <tbody>\n",
       "    <tr>\n",
       "      <th>0</th>\n",
       "      <td>10000011</td>\n",
       "      <td>2016-01-08</td>\n",
       "      <td>Pink Cab</td>\n",
       "      <td>ATLANTA GA</td>\n",
       "      <td>30.45</td>\n",
       "      <td>370.95</td>\n",
       "      <td>313.635</td>\n",
       "    </tr>\n",
       "    <tr>\n",
       "      <th>1</th>\n",
       "      <td>10000012</td>\n",
       "      <td>2016-01-06</td>\n",
       "      <td>Pink Cab</td>\n",
       "      <td>ATLANTA GA</td>\n",
       "      <td>28.62</td>\n",
       "      <td>358.52</td>\n",
       "      <td>334.854</td>\n",
       "    </tr>\n",
       "    <tr>\n",
       "      <th>2</th>\n",
       "      <td>10000013</td>\n",
       "      <td>2016-01-02</td>\n",
       "      <td>Pink Cab</td>\n",
       "      <td>ATLANTA GA</td>\n",
       "      <td>9.04</td>\n",
       "      <td>125.20</td>\n",
       "      <td>97.632</td>\n",
       "    </tr>\n",
       "    <tr>\n",
       "      <th>3</th>\n",
       "      <td>10000014</td>\n",
       "      <td>2016-01-07</td>\n",
       "      <td>Pink Cab</td>\n",
       "      <td>ATLANTA GA</td>\n",
       "      <td>33.17</td>\n",
       "      <td>377.40</td>\n",
       "      <td>351.602</td>\n",
       "    </tr>\n",
       "    <tr>\n",
       "      <th>4</th>\n",
       "      <td>10000015</td>\n",
       "      <td>2016-01-03</td>\n",
       "      <td>Pink Cab</td>\n",
       "      <td>ATLANTA GA</td>\n",
       "      <td>8.73</td>\n",
       "      <td>114.62</td>\n",
       "      <td>97.776</td>\n",
       "    </tr>\n",
       "  </tbody>\n",
       "</table>\n",
       "</div>"
      ],
      "text/plain": [
       "   Transaction ID Date of Travel   Company        City  KM Travelled  \\\n",
       "0        10000011     2016-01-08  Pink Cab  ATLANTA GA         30.45   \n",
       "1        10000012     2016-01-06  Pink Cab  ATLANTA GA         28.62   \n",
       "2        10000013     2016-01-02  Pink Cab  ATLANTA GA          9.04   \n",
       "3        10000014     2016-01-07  Pink Cab  ATLANTA GA         33.17   \n",
       "4        10000015     2016-01-03  Pink Cab  ATLANTA GA          8.73   \n",
       "\n",
       "   Price Charged  Cost of Trip  \n",
       "0         370.95       313.635  \n",
       "1         358.52       334.854  \n",
       "2         125.20        97.632  \n",
       "3         377.40       351.602  \n",
       "4         114.62        97.776  "
      ]
     },
     "execution_count": 3,
     "metadata": {},
     "output_type": "execute_result"
    }
   ],
   "source": [
    "for i in range(359392):\n",
    "    df_cab['Date of Travel'][i] = date(1900,1,1)+timedelta(int(df_cab['Date of Travel'][i])-2)\n",
    "df_cab.head(5)"
   ]
  },
  {
   "cell_type": "code",
   "execution_count": 4,
   "metadata": {},
   "outputs": [
    {
     "data": {
      "text/html": [
       "<div>\n",
       "<style scoped>\n",
       "    .dataframe tbody tr th:only-of-type {\n",
       "        vertical-align: middle;\n",
       "    }\n",
       "\n",
       "    .dataframe tbody tr th {\n",
       "        vertical-align: top;\n",
       "    }\n",
       "\n",
       "    .dataframe thead th {\n",
       "        text-align: right;\n",
       "    }\n",
       "</style>\n",
       "<table border=\"1\" class=\"dataframe\">\n",
       "  <thead>\n",
       "    <tr style=\"text-align: right;\">\n",
       "      <th></th>\n",
       "      <th>Transaction ID</th>\n",
       "      <th>Date of Travel</th>\n",
       "      <th>Company</th>\n",
       "      <th>City</th>\n",
       "      <th>KM Travelled</th>\n",
       "      <th>Price Charged</th>\n",
       "      <th>Cost of Trip</th>\n",
       "      <th>Customer ID</th>\n",
       "      <th>Payment_Mode</th>\n",
       "      <th>Gender</th>\n",
       "      <th>Age</th>\n",
       "      <th>Income (USD/Month)</th>\n",
       "      <th>Revenue</th>\n",
       "    </tr>\n",
       "  </thead>\n",
       "  <tbody>\n",
       "    <tr>\n",
       "      <th>0</th>\n",
       "      <td>10000011</td>\n",
       "      <td>2016-01-08</td>\n",
       "      <td>Pink Cab</td>\n",
       "      <td>ATLANTA GA</td>\n",
       "      <td>30.45</td>\n",
       "      <td>370.95</td>\n",
       "      <td>313.635</td>\n",
       "      <td>29290</td>\n",
       "      <td>Card</td>\n",
       "      <td>Male</td>\n",
       "      <td>28</td>\n",
       "      <td>10813</td>\n",
       "      <td>57.315</td>\n",
       "    </tr>\n",
       "    <tr>\n",
       "      <th>1</th>\n",
       "      <td>10000012</td>\n",
       "      <td>2016-01-06</td>\n",
       "      <td>Pink Cab</td>\n",
       "      <td>ATLANTA GA</td>\n",
       "      <td>28.62</td>\n",
       "      <td>358.52</td>\n",
       "      <td>334.854</td>\n",
       "      <td>27703</td>\n",
       "      <td>Card</td>\n",
       "      <td>Male</td>\n",
       "      <td>27</td>\n",
       "      <td>9237</td>\n",
       "      <td>23.666</td>\n",
       "    </tr>\n",
       "    <tr>\n",
       "      <th>2</th>\n",
       "      <td>10000013</td>\n",
       "      <td>2016-01-02</td>\n",
       "      <td>Pink Cab</td>\n",
       "      <td>ATLANTA GA</td>\n",
       "      <td>9.04</td>\n",
       "      <td>125.20</td>\n",
       "      <td>97.632</td>\n",
       "      <td>28712</td>\n",
       "      <td>Cash</td>\n",
       "      <td>Male</td>\n",
       "      <td>53</td>\n",
       "      <td>11242</td>\n",
       "      <td>27.568</td>\n",
       "    </tr>\n",
       "    <tr>\n",
       "      <th>3</th>\n",
       "      <td>10000014</td>\n",
       "      <td>2016-01-07</td>\n",
       "      <td>Pink Cab</td>\n",
       "      <td>ATLANTA GA</td>\n",
       "      <td>33.17</td>\n",
       "      <td>377.40</td>\n",
       "      <td>351.602</td>\n",
       "      <td>28020</td>\n",
       "      <td>Cash</td>\n",
       "      <td>Male</td>\n",
       "      <td>23</td>\n",
       "      <td>23327</td>\n",
       "      <td>25.798</td>\n",
       "    </tr>\n",
       "    <tr>\n",
       "      <th>4</th>\n",
       "      <td>10000015</td>\n",
       "      <td>2016-01-03</td>\n",
       "      <td>Pink Cab</td>\n",
       "      <td>ATLANTA GA</td>\n",
       "      <td>8.73</td>\n",
       "      <td>114.62</td>\n",
       "      <td>97.776</td>\n",
       "      <td>27182</td>\n",
       "      <td>Card</td>\n",
       "      <td>Male</td>\n",
       "      <td>33</td>\n",
       "      <td>8536</td>\n",
       "      <td>16.844</td>\n",
       "    </tr>\n",
       "  </tbody>\n",
       "</table>\n",
       "</div>"
      ],
      "text/plain": [
       "   Transaction ID Date of Travel   Company        City  KM Travelled  \\\n",
       "0        10000011     2016-01-08  Pink Cab  ATLANTA GA         30.45   \n",
       "1        10000012     2016-01-06  Pink Cab  ATLANTA GA         28.62   \n",
       "2        10000013     2016-01-02  Pink Cab  ATLANTA GA          9.04   \n",
       "3        10000014     2016-01-07  Pink Cab  ATLANTA GA         33.17   \n",
       "4        10000015     2016-01-03  Pink Cab  ATLANTA GA          8.73   \n",
       "\n",
       "   Price Charged  Cost of Trip  Customer ID Payment_Mode Gender  Age  \\\n",
       "0         370.95       313.635        29290         Card   Male   28   \n",
       "1         358.52       334.854        27703         Card   Male   27   \n",
       "2         125.20        97.632        28712         Cash   Male   53   \n",
       "3         377.40       351.602        28020         Cash   Male   23   \n",
       "4         114.62        97.776        27182         Card   Male   33   \n",
       "\n",
       "   Income (USD/Month)  Revenue  \n",
       "0               10813   57.315  \n",
       "1                9237   23.666  \n",
       "2               11242   27.568  \n",
       "3               23327   25.798  \n",
       "4                8536   16.844  "
      ]
     },
     "execution_count": 4,
     "metadata": {},
     "output_type": "execute_result"
    }
   ],
   "source": [
    "df1 = df_cab.merge(df_transid, how='left', on='Transaction ID').merge(df_cusid, how='left', on='Customer ID').dropna()\n",
    "df1['Revenue']=df1['Price Charged']-df1['Cost of Trip']\n",
    "df1.head()"
   ]
  },
  {
   "cell_type": "code",
   "execution_count": 5,
   "metadata": {},
   "outputs": [
    {
     "data": {
      "text/html": [
       "<div>\n",
       "<style scoped>\n",
       "    .dataframe tbody tr th:only-of-type {\n",
       "        vertical-align: middle;\n",
       "    }\n",
       "\n",
       "    .dataframe tbody tr th {\n",
       "        vertical-align: top;\n",
       "    }\n",
       "\n",
       "    .dataframe thead th {\n",
       "        text-align: right;\n",
       "    }\n",
       "</style>\n",
       "<table border=\"1\" class=\"dataframe\">\n",
       "  <thead>\n",
       "    <tr style=\"text-align: right;\">\n",
       "      <th></th>\n",
       "      <th>Population</th>\n",
       "      <th>Users</th>\n",
       "      <th>KM Travelled</th>\n",
       "      <th>Price Charged</th>\n",
       "      <th>Revenue</th>\n",
       "      <th>Number of Rides</th>\n",
       "      <th>Avg Price</th>\n",
       "    </tr>\n",
       "    <tr>\n",
       "      <th>City</th>\n",
       "      <th></th>\n",
       "      <th></th>\n",
       "      <th></th>\n",
       "      <th></th>\n",
       "      <th></th>\n",
       "      <th></th>\n",
       "      <th></th>\n",
       "    </tr>\n",
       "  </thead>\n",
       "  <tbody>\n",
       "    <tr>\n",
       "      <th>NEW YORK NY</th>\n",
       "      <td>8,405,837</td>\n",
       "      <td>302,149</td>\n",
       "      <td>2248809.74</td>\n",
       "      <td>56954061.67</td>\n",
       "      <td>2.796256e+07</td>\n",
       "      <td>99885.0</td>\n",
       "      <td>25.326314</td>\n",
       "    </tr>\n",
       "    <tr>\n",
       "      <th>CHICAGO IL</th>\n",
       "      <td>1,955,130</td>\n",
       "      <td>164,468</td>\n",
       "      <td>1281704.39</td>\n",
       "      <td>19841318.52</td>\n",
       "      <td>3.387313e+06</td>\n",
       "      <td>56625.0</td>\n",
       "      <td>15.480417</td>\n",
       "    </tr>\n",
       "    <tr>\n",
       "      <th>LOS ANGELES CA</th>\n",
       "      <td>1,595,037</td>\n",
       "      <td>144,132</td>\n",
       "      <td>1088735.65</td>\n",
       "      <td>17795624.41</td>\n",
       "      <td>4.411709e+06</td>\n",
       "      <td>48033.0</td>\n",
       "      <td>16.345221</td>\n",
       "    </tr>\n",
       "    <tr>\n",
       "      <th>MIAMI FL</th>\n",
       "      <td>1,339,155</td>\n",
       "      <td>17,675</td>\n",
       "      <td>145418.17</td>\n",
       "      <td>2580135.20</td>\n",
       "      <td>7.583012e+05</td>\n",
       "      <td>6454.0</td>\n",
       "      <td>17.742867</td>\n",
       "    </tr>\n",
       "    <tr>\n",
       "      <th>SILICON VALLEY</th>\n",
       "      <td>1,177,609</td>\n",
       "      <td>27,247</td>\n",
       "      <td>193712.97</td>\n",
       "      <td>3684102.15</td>\n",
       "      <td>1.316705e+06</td>\n",
       "      <td>8519.0</td>\n",
       "      <td>19.018356</td>\n",
       "    </tr>\n",
       "    <tr>\n",
       "      <th>ORANGE COUNTY</th>\n",
       "      <td>1,030,185</td>\n",
       "      <td>12,994</td>\n",
       "      <td>88826.69</td>\n",
       "      <td>1554873.21</td>\n",
       "      <td>4.570019e+05</td>\n",
       "      <td>3982.0</td>\n",
       "      <td>17.504572</td>\n",
       "    </tr>\n",
       "    <tr>\n",
       "      <th>SAN DIEGO CA</th>\n",
       "      <td>959,307</td>\n",
       "      <td>69,995</td>\n",
       "      <td>460503.69</td>\n",
       "      <td>7136380.59</td>\n",
       "      <td>1.587163e+06</td>\n",
       "      <td>20488.0</td>\n",
       "      <td>15.496902</td>\n",
       "    </tr>\n",
       "    <tr>\n",
       "      <th>PHOENIX AZ</th>\n",
       "      <td>943,999</td>\n",
       "      <td>6,133</td>\n",
       "      <td>45825.08</td>\n",
       "      <td>756682.64</td>\n",
       "      <td>1.929409e+05</td>\n",
       "      <td>2064.0</td>\n",
       "      <td>16.512413</td>\n",
       "    </tr>\n",
       "    <tr>\n",
       "      <th>DALLAS TX</th>\n",
       "      <td>942,908</td>\n",
       "      <td>22,157</td>\n",
       "      <td>157782.05</td>\n",
       "      <td>3142429.91</td>\n",
       "      <td>1.128733e+06</td>\n",
       "      <td>7017.0</td>\n",
       "      <td>19.916270</td>\n",
       "    </tr>\n",
       "    <tr>\n",
       "      <th>ATLANTA GA</th>\n",
       "      <td>814,885</td>\n",
       "      <td>24,701</td>\n",
       "      <td>168643.76</td>\n",
       "      <td>2980241.72</td>\n",
       "      <td>8.424329e+05</td>\n",
       "      <td>7557.0</td>\n",
       "      <td>17.671817</td>\n",
       "    </tr>\n",
       "    <tr>\n",
       "      <th>DENVER CO</th>\n",
       "      <td>754,233</td>\n",
       "      <td>12,421</td>\n",
       "      <td>85869.75</td>\n",
       "      <td>1462531.51</td>\n",
       "      <td>3.975850e+05</td>\n",
       "      <td>3825.0</td>\n",
       "      <td>17.031976</td>\n",
       "    </tr>\n",
       "    <tr>\n",
       "      <th>AUSTIN TX</th>\n",
       "      <td>698,371</td>\n",
       "      <td>14,978</td>\n",
       "      <td>109207.30</td>\n",
       "      <td>1877142.50</td>\n",
       "      <td>5.267010e+05</td>\n",
       "      <td>4896.0</td>\n",
       "      <td>17.188801</td>\n",
       "    </tr>\n",
       "    <tr>\n",
       "      <th>SEATTLE WA</th>\n",
       "      <td>671,238</td>\n",
       "      <td>25,063</td>\n",
       "      <td>180903.99</td>\n",
       "      <td>2854316.26</td>\n",
       "      <td>6.046849e+05</td>\n",
       "      <td>7997.0</td>\n",
       "      <td>15.778072</td>\n",
       "    </tr>\n",
       "    <tr>\n",
       "      <th>TUCSON AZ</th>\n",
       "      <td>631,442</td>\n",
       "      <td>5,712</td>\n",
       "      <td>43229.81</td>\n",
       "      <td>672580.26</td>\n",
       "      <td>1.402607e+05</td>\n",
       "      <td>1931.0</td>\n",
       "      <td>15.558252</td>\n",
       "    </tr>\n",
       "    <tr>\n",
       "      <th>SACRAMENTO CA</th>\n",
       "      <td>545,776</td>\n",
       "      <td>7,044</td>\n",
       "      <td>53861.20</td>\n",
       "      <td>761611.95</td>\n",
       "      <td>1.173262e+05</td>\n",
       "      <td>2367.0</td>\n",
       "      <td>14.140271</td>\n",
       "    </tr>\n",
       "    <tr>\n",
       "      <th>PITTSBURGH PA</th>\n",
       "      <td>542,085</td>\n",
       "      <td>3,643</td>\n",
       "      <td>29705.76</td>\n",
       "      <td>442538.64</td>\n",
       "      <td>8.516596e+04</td>\n",
       "      <td>1313.0</td>\n",
       "      <td>14.897402</td>\n",
       "    </tr>\n",
       "    <tr>\n",
       "      <th>WASHINGTON DC</th>\n",
       "      <td>418,859</td>\n",
       "      <td>127,001</td>\n",
       "      <td>989037.66</td>\n",
       "      <td>16366703.83</td>\n",
       "      <td>3.492870e+06</td>\n",
       "      <td>43737.0</td>\n",
       "      <td>16.548110</td>\n",
       "    </tr>\n",
       "    <tr>\n",
       "      <th>NASHVILLE TN</th>\n",
       "      <td>327,225</td>\n",
       "      <td>9,270</td>\n",
       "      <td>68324.74</td>\n",
       "      <td>959108.13</td>\n",
       "      <td>1.495322e+05</td>\n",
       "      <td>3010.0</td>\n",
       "      <td>14.037494</td>\n",
       "    </tr>\n",
       "    <tr>\n",
       "      <th>BOSTON MA</th>\n",
       "      <td>248,968</td>\n",
       "      <td>80,021</td>\n",
       "      <td>670388.18</td>\n",
       "      <td>10359755.42</td>\n",
       "      <td>1.768719e+06</td>\n",
       "      <td>29692.0</td>\n",
       "      <td>15.453368</td>\n",
       "    </tr>\n",
       "  </tbody>\n",
       "</table>\n",
       "</div>"
      ],
      "text/plain": [
       "                 Population      Users  KM Travelled  Price Charged  \\\n",
       "City                                                                  \n",
       "NEW YORK NY      8,405,837    302,149     2248809.74    56954061.67   \n",
       "CHICAGO IL       1,955,130    164,468     1281704.39    19841318.52   \n",
       "LOS ANGELES CA   1,595,037    144,132     1088735.65    17795624.41   \n",
       "MIAMI FL         1,339,155     17,675      145418.17     2580135.20   \n",
       "SILICON VALLEY   1,177,609     27,247      193712.97     3684102.15   \n",
       "ORANGE COUNTY    1,030,185     12,994       88826.69     1554873.21   \n",
       "SAN DIEGO CA       959,307     69,995      460503.69     7136380.59   \n",
       "PHOENIX AZ         943,999      6,133       45825.08      756682.64   \n",
       "DALLAS TX          942,908     22,157      157782.05     3142429.91   \n",
       "ATLANTA GA         814,885     24,701      168643.76     2980241.72   \n",
       "DENVER CO          754,233     12,421       85869.75     1462531.51   \n",
       "AUSTIN TX          698,371     14,978      109207.30     1877142.50   \n",
       "SEATTLE WA         671,238     25,063      180903.99     2854316.26   \n",
       "TUCSON AZ          631,442      5,712       43229.81      672580.26   \n",
       "SACRAMENTO CA      545,776      7,044       53861.20      761611.95   \n",
       "PITTSBURGH PA      542,085      3,643       29705.76      442538.64   \n",
       "WASHINGTON DC      418,859    127,001      989037.66    16366703.83   \n",
       "NASHVILLE TN       327,225      9,270       68324.74      959108.13   \n",
       "BOSTON MA          248,968     80,021      670388.18    10359755.42   \n",
       "\n",
       "                     Revenue  Number of Rides  Avg Price  \n",
       "City                                                      \n",
       "NEW YORK NY     2.796256e+07          99885.0  25.326314  \n",
       "CHICAGO IL      3.387313e+06          56625.0  15.480417  \n",
       "LOS ANGELES CA  4.411709e+06          48033.0  16.345221  \n",
       "MIAMI FL        7.583012e+05           6454.0  17.742867  \n",
       "SILICON VALLEY  1.316705e+06           8519.0  19.018356  \n",
       "ORANGE COUNTY   4.570019e+05           3982.0  17.504572  \n",
       "SAN DIEGO CA    1.587163e+06          20488.0  15.496902  \n",
       "PHOENIX AZ      1.929409e+05           2064.0  16.512413  \n",
       "DALLAS TX       1.128733e+06           7017.0  19.916270  \n",
       "ATLANTA GA      8.424329e+05           7557.0  17.671817  \n",
       "DENVER CO       3.975850e+05           3825.0  17.031976  \n",
       "AUSTIN TX       5.267010e+05           4896.0  17.188801  \n",
       "SEATTLE WA      6.046849e+05           7997.0  15.778072  \n",
       "TUCSON AZ       1.402607e+05           1931.0  15.558252  \n",
       "SACRAMENTO CA   1.173262e+05           2367.0  14.140271  \n",
       "PITTSBURGH PA   8.516596e+04           1313.0  14.897402  \n",
       "WASHINGTON DC   3.492870e+06          43737.0  16.548110  \n",
       "NASHVILLE TN    1.495322e+05           3010.0  14.037494  \n",
       "BOSTON MA       1.768719e+06          29692.0  15.453368  "
      ]
     },
     "execution_count": 5,
     "metadata": {},
     "output_type": "execute_result"
    }
   ],
   "source": [
    "df_tmp = df1[['City','KM Travelled','Price Charged','Revenue']].groupby(by='City').sum()\n",
    "df_tmp\n",
    "df_tmp['Number of Rides'] = df1.groupby(by='City').count()['Transaction ID']\n",
    "df2 = df_city.merge(df_tmp,how='left',on='City').set_index('City').dropna()\n",
    "df2['Avg Price'] = df2['Price Charged']/df2['KM Travelled']\n",
    "df2"
   ]
  },
  {
   "cell_type": "markdown",
   "metadata": {},
   "source": [
    "# Hypotheses and relative analysis"
   ]
  },
  {
   "cell_type": "markdown",
   "metadata": {},
   "source": [
    "### Hypothesis 1: Customer's age is related to the number of customers and average times of taking taxi."
   ]
  },
  {
   "cell_type": "markdown",
   "metadata": {},
   "source": [
    "Firstly, I got all customers' ages and divided them into 8 groups by age intervals:"
   ]
  },
  {
   "cell_type": "code",
   "execution_count": 6,
   "metadata": {},
   "outputs": [
    {
     "data": {
      "image/png": "[encoded data removed]",
      "text/plain": [
       "<Figure size 1440x720 with 1 Axes>"
      ]
     },
     "metadata": {
      "needs_background": "light"
     },
     "output_type": "display_data"
    }
   ],
   "source": [
    "# age and # of customers\n",
    "age_interval = ['18-24','24-30','30-36','36-42','42-48','48-54','54-60','60+']\n",
    "a = df1[['Customer ID','Age','Gender']].drop_duplicates(subset='Customer ID')[['Age','Gender']]\n",
    "age_m = a[a.Gender=='Male'].groupby(by=pd.cut(a[a.Gender=='Male']['Age'], np.arange(18, 67, 6))).count()['Age']\n",
    "age_f = a[a.Gender=='Female'].groupby(by=pd.cut(a[a.Gender=='Female']['Age'], np.arange(18, 67, 6))).count()['Age']\n",
    "age_t = age_m + age_f\n",
    "x = np.arange(len(age_interval))\n",
    "width = 0.25\n",
    "fig1, ax1 = plt.subplots(figsize=(20,10))\n",
    "rects1 = ax1.bar(x - width, age_m, width, label='Men', color='#66CCFF')\n",
    "rects2 = ax1.bar(x, age_f, width, label='Women', color='#F33A3A')\n",
    "rects3 = ax1.bar(x + width, age_t, width, label='Total',color='#3BDF65')\n",
    "ax1.set_ylabel('Number')\n",
    "ax1.set_title('Age of Customers')\n",
    "ax1.set_xticks(x)\n",
    "ax1.set_yticks(np.arange(0,9001,1000))\n",
    "ax1.set_xticklabels(age_interval)\n",
    "ax1.legend()\n",
    "ax1.bar_label(rects1, padding=3)\n",
    "ax1.bar_label(rects2, padding=3)\n",
    "ax1.bar_label(rects3, padding=3)\n",
    "plt.show()"
   ]
  },
  {
   "cell_type": "markdown",
   "metadata": {},
   "source": [
    "From the bar chart above, although there is slight difference for men in 54-60 yrs old interval, generally there are more number of customers in younger group, and the difference is obvious betwween the groups less than 42 years old and the groups more than 42 years old. Besides, the number of male customers is larger than that of female customers for each age group. Therefore, we can conclude that age is related to the number of customers."
   ]
  },
  {
   "cell_type": "markdown",
   "metadata": {},
   "source": [
    "Next thing that I did was to calculate average number of times of taking taxis per customer for each age group:"
   ]
  },
  {
   "cell_type": "code",
   "execution_count": 7,
   "metadata": {},
   "outputs": [
    {
     "data": {
      "image/png": "[encoded data removed]",
      "text/plain": [
       "<Figure size 864x504 with 1 Axes>"
      ]
     },
     "metadata": {
      "needs_background": "light"
     },
     "output_type": "display_data"
    }
   ],
   "source": [
    "# age and avg times of taking the cab\n",
    "df_ageavg = df1.groupby(by=pd.cut(df1['Age'], np.arange(18, 67, 6))).count()\n",
    "df_ageavg[\"Average times\"] = (df_ageavg[\"Age\"]/age_t).round(3)\n",
    "fig2, ax2 = plt.subplots(figsize=(12,7))\n",
    "x = np.arange(len(age_interval))\n",
    "rects4 = ax2.bar(x, df_ageavg[\"Average times\"], width=0.5, label='Total',color=\"orange\")\n",
    "ax2.set_ylabel('Average times')\n",
    "ax2.set_title('Age of Customers')\n",
    "ax2.set_xticks(x)\n",
    "ax2.set_yticks(np.arange(0,10,0.5))\n",
    "ax2.set_xticklabels(age_interval)\n",
    "ax2.bar_label(rects4, padding=3)\n",
    "plt.show()"
   ]
  },
  {
   "cell_type": "markdown",
   "metadata": {},
   "source": [
    "From the chart above, there are not significant difference in number of times of taking taxis among different groups, so it seems that age is not related to frequency of taking taxi. In order to prove this, the correlation between age and frequency was calculated below:"
   ]
  },
  {
   "cell_type": "code",
   "execution_count": 8,
   "metadata": {},
   "outputs": [
    {
     "data": {
      "text/html": [
       "<div>\n",
       "<style scoped>\n",
       "    .dataframe tbody tr th:only-of-type {\n",
       "        vertical-align: middle;\n",
       "    }\n",
       "\n",
       "    .dataframe tbody tr th {\n",
       "        vertical-align: top;\n",
       "    }\n",
       "\n",
       "    .dataframe thead th {\n",
       "        text-align: right;\n",
       "    }\n",
       "</style>\n",
       "<table border=\"1\" class=\"dataframe\">\n",
       "  <thead>\n",
       "    <tr style=\"text-align: right;\">\n",
       "      <th></th>\n",
       "      <th>Age</th>\n",
       "      <th>Times</th>\n",
       "    </tr>\n",
       "  </thead>\n",
       "  <tbody>\n",
       "    <tr>\n",
       "      <th>Age</th>\n",
       "      <td>1.000000</td>\n",
       "      <td>-0.001462</td>\n",
       "    </tr>\n",
       "    <tr>\n",
       "      <th>Times</th>\n",
       "      <td>-0.001462</td>\n",
       "      <td>1.000000</td>\n",
       "    </tr>\n",
       "  </tbody>\n",
       "</table>\n",
       "</div>"
      ],
      "text/plain": [
       "            Age     Times\n",
       "Age    1.000000 -0.001462\n",
       "Times -0.001462  1.000000"
      ]
     },
     "execution_count": 8,
     "metadata": {},
     "output_type": "execute_result"
    }
   ],
   "source": [
    "# Correlation between times and age\n",
    "b = df1[['Customer ID','Age']].drop_duplicates(subset='Customer ID').sort_values(by='Customer ID').reset_index().drop('index',axis=1)\n",
    "b['Times'] = df1.groupby(by='Customer ID').count().reset_index()['Age']\n",
    "b[['Age','Times']].corr()"
   ]
  },
  {
   "cell_type": "markdown",
   "metadata": {},
   "source": [
    "The correlation value is -0.0015, which is small enough to prove the irrelevance between age and frequency of taking taxis."
   ]
  },
  {
   "cell_type": "markdown",
   "metadata": {},
   "source": [
    "### Hypothesis 2: The more popular cab company is also more efficient in making revenues."
   ]
  },
  {
   "cell_type": "markdown",
   "metadata": {},
   "source": [
    "Firstly, the total number of orders, total revenue and average revenue per order of each cab company were calculated:"
   ]
  },
  {
   "cell_type": "code",
   "execution_count": 9,
   "metadata": {},
   "outputs": [
    {
     "data": {
      "text/html": [
       "<div>\n",
       "<style scoped>\n",
       "    .dataframe tbody tr th:only-of-type {\n",
       "        vertical-align: middle;\n",
       "    }\n",
       "\n",
       "    .dataframe tbody tr th {\n",
       "        vertical-align: top;\n",
       "    }\n",
       "\n",
       "    .dataframe thead th {\n",
       "        text-align: right;\n",
       "    }\n",
       "</style>\n",
       "<table border=\"1\" class=\"dataframe\">\n",
       "  <thead>\n",
       "    <tr style=\"text-align: right;\">\n",
       "      <th></th>\n",
       "      <th>Number of orders</th>\n",
       "      <th>Revenue</th>\n",
       "      <th>Average Revenue</th>\n",
       "    </tr>\n",
       "    <tr>\n",
       "      <th>Company</th>\n",
       "      <th></th>\n",
       "      <th></th>\n",
       "      <th></th>\n",
       "    </tr>\n",
       "  </thead>\n",
       "  <tbody>\n",
       "    <tr>\n",
       "      <th>Pink Cab</th>\n",
       "      <td>84711</td>\n",
       "      <td>5.307328e+06</td>\n",
       "      <td>62.652174</td>\n",
       "    </tr>\n",
       "    <tr>\n",
       "      <th>Yellow Cab</th>\n",
       "      <td>274681</td>\n",
       "      <td>4.402037e+07</td>\n",
       "      <td>160.259986</td>\n",
       "    </tr>\n",
       "  </tbody>\n",
       "</table>\n",
       "</div>"
      ],
      "text/plain": [
       "            Number of orders       Revenue  Average Revenue\n",
       "Company                                                    \n",
       "Pink Cab               84711  5.307328e+06        62.652174\n",
       "Yellow Cab            274681  4.402037e+07       160.259986"
      ]
     },
     "execution_count": 9,
     "metadata": {},
     "output_type": "execute_result"
    }
   ],
   "source": [
    "c = df1.groupby(by=\"Company\").count()[['Date of Travel','Age']]\n",
    "c['Revenue'] = df1.groupby(by='Company').sum()['Revenue']\n",
    "c = c.drop('Age', axis=1)\n",
    "c = c.rename(columns={'Date of Travel':\"Number of orders\",\"Revenue\":\"Revenue\"})\n",
    "c['Average Revenue'] = c['Revenue']/c['Number of orders']\n",
    "c"
   ]
  },
  {
   "cell_type": "markdown",
   "metadata": {},
   "source": [
    "From the result, Yellow Cab Company are more popular than Pink Cab Company(since it has much more number of orders). Besides, it has more average revenue per order, so it is also more efficient in making revenues, which proved the correctness of the hypothesis."
   ]
  },
  {
   "cell_type": "markdown",
   "metadata": {},
   "source": [
    "But why? Here are 2 hypotheses: 1. Yellow Cab Company has more long-distance orders; 2. Yellow Cab Company has less costs. "
   ]
  },
  {
   "cell_type": "markdown",
   "metadata": {},
   "source": [
    "Firstly the percentage distribution of distence travelled for each company was shown in the pie chart below:"
   ]
  },
  {
   "cell_type": "code",
   "execution_count": 10,
   "metadata": {},
   "outputs": [
    {
     "data": {
      "image/png": "[encoded data removed]",
      "text/plain": [
       "<Figure size 1296x576 with 2 Axes>"
      ]
     },
     "metadata": {},
     "output_type": "display_data"
    }
   ],
   "source": [
    "gb_pink = df1[df1.Company=='Pink Cab'].groupby(by=pd.cut(df1['KM Travelled'], np.arange(0,51,10))).count()\n",
    "gb_yellow = df1[df1.Company=='Yellow Cab'].groupby(by=pd.cut(df1['KM Travelled'], np.arange(0,51,10))).count()\n",
    "df_company = pd.DataFrame(gb_pink[\"Transaction ID\"]/gb_pink[\"Transaction ID\"].sum()).rename(columns={\"Transaction ID\":\"Pink\"})\n",
    "df_company[\"Yellow\"] = gb_yellow[\"Transaction ID\"]/gb_yellow[\"Transaction ID\"].sum()\n",
    "fig, (ax1, ax2) = plt.subplots(1, 2, figsize=(18,8))\n",
    "label = ['<10km','10-20km','20-30km','30-40km','>40km']\n",
    "ax1.pie(df_company['Pink'],labels=label,autopct='%1.1f%%')\n",
    "ax2.pie(df_company['Yellow'],labels=label,autopct='%1.1f%%')\n",
    "ax1.set_title('Percentage of KMs travelled on Pink Cab')\n",
    "ax2.set_title('Percentage of KMs travelled on Yellow Cab')\n",
    "plt.show()"
   ]
  },
  {
   "cell_type": "markdown",
   "metadata": {},
   "source": [
    "The percentage distribution of the two companies is almost the same, so the first hypothesis can be excluded."
   ]
  },
  {
   "cell_type": "markdown",
   "metadata": {},
   "source": [
    "For the second hypothesis, I calculated the proportion between the cost and the price charged:"
   ]
  },
  {
   "cell_type": "code",
   "execution_count": 11,
   "metadata": {},
   "outputs": [
    {
     "data": {
      "text/plain": [
       "Company\n",
       "Pink Cab      0.798417\n",
       "Yellow Cab    0.650226\n",
       "dtype: float64"
      ]
     },
     "execution_count": 11,
     "metadata": {},
     "output_type": "execute_result"
    }
   ],
   "source": [
    "gb_company = df1.groupby(by='Company').sum()\n",
    "gb_company['Cost of Trip']/gb_company['Price Charged']"
   ]
  },
  {
   "cell_type": "markdown",
   "metadata": {},
   "source": [
    "From the result, obviously Yellow Cab Company has less cost than Pink Cab Company, so the second hypothesis can be proved."
   ]
  },
  {
   "cell_type": "markdown",
   "metadata": {},
   "source": [
    "### Hypothesis 3: The yearly and monthly patterns of the change of price per KM in the two companies are similar"
   ]
  },
  {
   "cell_type": "markdown",
   "metadata": {},
   "source": [
    "First calculate and visualize yearly change of average prices per KM by year:"
   ]
  },
  {
   "cell_type": "code",
   "execution_count": 12,
   "metadata": {},
   "outputs": [
    {
     "data": {
      "text/html": [
       "<div>\n",
       "<style scoped>\n",
       "    .dataframe tbody tr th:only-of-type {\n",
       "        vertical-align: middle;\n",
       "    }\n",
       "\n",
       "    .dataframe tbody tr th {\n",
       "        vertical-align: top;\n",
       "    }\n",
       "\n",
       "    .dataframe thead th {\n",
       "        text-align: right;\n",
       "    }\n",
       "</style>\n",
       "<table border=\"1\" class=\"dataframe\">\n",
       "  <thead>\n",
       "    <tr style=\"text-align: right;\">\n",
       "      <th></th>\n",
       "      <th>Company</th>\n",
       "      <th>Price per KM</th>\n",
       "      <th>Year</th>\n",
       "      <th>Month</th>\n",
       "    </tr>\n",
       "  </thead>\n",
       "  <tbody>\n",
       "    <tr>\n",
       "      <th>0</th>\n",
       "      <td>Pink Cab</td>\n",
       "      <td>12.182266</td>\n",
       "      <td>2016</td>\n",
       "      <td>1</td>\n",
       "    </tr>\n",
       "    <tr>\n",
       "      <th>1</th>\n",
       "      <td>Pink Cab</td>\n",
       "      <td>12.526904</td>\n",
       "      <td>2016</td>\n",
       "      <td>1</td>\n",
       "    </tr>\n",
       "    <tr>\n",
       "      <th>2</th>\n",
       "      <td>Pink Cab</td>\n",
       "      <td>13.849558</td>\n",
       "      <td>2016</td>\n",
       "      <td>1</td>\n",
       "    </tr>\n",
       "    <tr>\n",
       "      <th>3</th>\n",
       "      <td>Pink Cab</td>\n",
       "      <td>11.377751</td>\n",
       "      <td>2016</td>\n",
       "      <td>1</td>\n",
       "    </tr>\n",
       "    <tr>\n",
       "      <th>4</th>\n",
       "      <td>Pink Cab</td>\n",
       "      <td>13.129439</td>\n",
       "      <td>2016</td>\n",
       "      <td>1</td>\n",
       "    </tr>\n",
       "  </tbody>\n",
       "</table>\n",
       "</div>"
      ],
      "text/plain": [
       "    Company  Price per KM  Year  Month\n",
       "0  Pink Cab     12.182266  2016      1\n",
       "1  Pink Cab     12.526904  2016      1\n",
       "2  Pink Cab     13.849558  2016      1\n",
       "3  Pink Cab     11.377751  2016      1\n",
       "4  Pink Cab     13.129439  2016      1"
      ]
     },
     "execution_count": 12,
     "metadata": {},
     "output_type": "execute_result"
    }
   ],
   "source": [
    "df1['Year'] = pd.DatetimeIndex(df1['Date of Travel']).year\n",
    "df1['Month'] = pd.DatetimeIndex(df1['Date of Travel']).month\n",
    "df1['Price per KM'] = df1['Price Charged']/df1['KM Travelled']\n",
    "df_price = df1[['Company','Price per KM','Year','Month']]\n",
    "df_price.head()"
   ]
  },
  {
   "cell_type": "code",
   "execution_count": 13,
   "metadata": {},
   "outputs": [
    {
     "data": {
      "image/png": "[encoded data removed]",
      "text/plain": [
       "<Figure size 720x432 with 1 Axes>"
      ]
     },
     "metadata": {
      "needs_background": "light"
     },
     "output_type": "display_data"
    }
   ],
   "source": [
    "price_ypk = df_price[df_price.Company=='Pink Cab'][['Price per KM',\"Year\"]].groupby(by='Year').mean()['Price per KM'].round(2)\n",
    "price_yyl = df_price[df_price.Company=='Yellow Cab'][['Price per KM',\"Year\"]].groupby(by='Year').mean()['Price per KM'].round(2)\n",
    "x = np.arange(3)\n",
    "fig4, ax4 = plt.subplots(figsize=(10,6))\n",
    "plot_pk = ax4.plot(x, price_ypk, 'o-', label='Pink Cab', color='pink')\n",
    "plot_yl = ax4.plot(x, price_yyl, 'o-', label='Yellow Cab', color='yellow')\n",
    "for a,b in zip(x,price_ypk):\n",
    "    plt.text(a,b,str(b),ha='center',va='bottom')\n",
    "for a,b in zip(x,price_yyl):\n",
    "    plt.text(a,b,str(b),ha='center',va='bottom')\n",
    "ax4.set_ylabel('Price/KM')\n",
    "ax4.set_title('Yearly Average Price per KM')\n",
    "ax4.set_xticks(x)\n",
    "ax4.set_xticklabels([2016,2017,2018])\n",
    "ax4.set_yticks(np.arange(10,26,2))\n",
    "ax4.legend()\n",
    "plt.show()"
   ]
  },
  {
   "cell_type": "markdown",
   "metadata": {},
   "source": [
    "Generally the change patterns of the two companies are similar: the price decreased from 2016 to 2018."
   ]
  },
  {
   "cell_type": "markdown",
   "metadata": {},
   "source": [
    "Next the average prices for each month were calculated and visualized to compare prices monthly:"
   ]
  },
  {
   "cell_type": "code",
   "execution_count": 14,
   "metadata": {},
   "outputs": [
    {
     "data": {
      "image/png": "[encoded data removed]",
      "text/plain": [
       "<Figure size 1440x432 with 1 Axes>"
      ]
     },
     "metadata": {
      "needs_background": "light"
     },
     "output_type": "display_data"
    }
   ],
   "source": [
    "price_mpk = df_price[df_price.Company=='Pink Cab'][['Price per KM',\"Month\"]].groupby(by='Month').mean()['Price per KM'].round(2)\n",
    "price_myl = df_price[df_price.Company=='Yellow Cab'][['Price per KM',\"Month\"]].groupby(by='Month').mean()['Price per KM'].round(2)\n",
    "x = np.arange(12)\n",
    "fig5, ax5 = plt.subplots(figsize=(20,6))\n",
    "plot_mpk = ax5.plot(x, price_mpk, 'o-', label='Pink Cab', color='pink')\n",
    "plot_myl = ax5.plot(x, price_myl, 'o-', label='Yellow Cab', color='yellow')\n",
    "for a,b in zip(x,price_mpk):\n",
    "    plt.text(a,b,str(b),ha='center',va='bottom')\n",
    "for a,b in zip(x,price_myl):\n",
    "    plt.text(a,b,str(b),ha='center',va='bottom')\n",
    "ax5.set_ylabel('Price/KM')\n",
    "ax5.set_title('Monthly Average Price per KM')\n",
    "ax5.set_xticks(x)\n",
    "ax5.set_xticklabels(np.arange(1,13,1))\n",
    "ax5.set_yticks(np.arange(10,26,2))\n",
    "ax5.legend()\n",
    "plt.show()"
   ]
  },
  {
   "cell_type": "markdown",
   "metadata": {},
   "source": [
    "The trends of two line are different, and from April to August the trends are the obviously opposite. Therefore, Hypothesis 3 is halfly correct and halfly wrong."
   ]
  },
  {
   "cell_type": "markdown",
   "metadata": {},
   "source": [
    "In order to check whether the trends of the two companies are related, I calculated the correlation:"
   ]
  },
  {
   "cell_type": "code",
   "execution_count": 15,
   "metadata": {},
   "outputs": [
    {
     "data": {
      "text/plain": [
       "-0.15696360825932218"
      ]
     },
     "execution_count": 15,
     "metadata": {},
     "output_type": "execute_result"
    }
   ],
   "source": [
    "pd.Series.corr(price_mpk,price_myl)"
   ]
  },
  {
   "cell_type": "markdown",
   "metadata": {},
   "source": [
    "Although the correlation is not strong enough, we can conclude that the trends are negatively related, which is the same as the obvious pattern between April and August."
   ]
  },
  {
   "cell_type": "markdown",
   "metadata": {},
   "source": [
    "### Hypothesis 4: In holidays customers tend to travel further than in normal days."
   ]
  },
  {
   "cell_type": "markdown",
   "metadata": {},
   "source": [
    "Firstly I grouped KM travelled and number of orders by date, combining the grouped data and a list of holidays between 2016 to 2018 into a new dataframe(0 means not holiday, 1 means holiday):"
   ]
  },
  {
   "cell_type": "code",
   "execution_count": 16,
   "metadata": {},
   "outputs": [
    {
     "data": {
      "text/html": [
       "<div>\n",
       "<style scoped>\n",
       "    .dataframe tbody tr th:only-of-type {\n",
       "        vertical-align: middle;\n",
       "    }\n",
       "\n",
       "    .dataframe tbody tr th {\n",
       "        vertical-align: top;\n",
       "    }\n",
       "\n",
       "    .dataframe thead th {\n",
       "        text-align: right;\n",
       "    }\n",
       "</style>\n",
       "<table border=\"1\" class=\"dataframe\">\n",
       "  <thead>\n",
       "    <tr style=\"text-align: right;\">\n",
       "      <th></th>\n",
       "      <th>Date</th>\n",
       "      <th>KM Travelled</th>\n",
       "      <th>Holiday</th>\n",
       "      <th>Number of Orders</th>\n",
       "    </tr>\n",
       "  </thead>\n",
       "  <tbody>\n",
       "    <tr>\n",
       "      <th>0</th>\n",
       "      <td>2016-01-02</td>\n",
       "      <td>4093.96</td>\n",
       "      <td>1</td>\n",
       "      <td>181</td>\n",
       "    </tr>\n",
       "    <tr>\n",
       "      <th>1</th>\n",
       "      <td>2016-01-03</td>\n",
       "      <td>4169.83</td>\n",
       "      <td>1</td>\n",
       "      <td>178</td>\n",
       "    </tr>\n",
       "    <tr>\n",
       "      <th>2</th>\n",
       "      <td>2016-01-04</td>\n",
       "      <td>528.47</td>\n",
       "      <td>0</td>\n",
       "      <td>25</td>\n",
       "    </tr>\n",
       "    <tr>\n",
       "      <th>3</th>\n",
       "      <td>2016-01-05</td>\n",
       "      <td>1242.83</td>\n",
       "      <td>0</td>\n",
       "      <td>47</td>\n",
       "    </tr>\n",
       "    <tr>\n",
       "      <th>4</th>\n",
       "      <td>2016-01-06</td>\n",
       "      <td>2435.43</td>\n",
       "      <td>0</td>\n",
       "      <td>109</td>\n",
       "    </tr>\n",
       "    <tr>\n",
       "      <th>...</th>\n",
       "      <td>...</td>\n",
       "      <td>...</td>\n",
       "      <td>...</td>\n",
       "      <td>...</td>\n",
       "    </tr>\n",
       "    <tr>\n",
       "      <th>1090</th>\n",
       "      <td>2018-12-27</td>\n",
       "      <td>7098.07</td>\n",
       "      <td>0</td>\n",
       "      <td>318</td>\n",
       "    </tr>\n",
       "    <tr>\n",
       "      <th>1091</th>\n",
       "      <td>2018-12-28</td>\n",
       "      <td>18581.99</td>\n",
       "      <td>0</td>\n",
       "      <td>843</td>\n",
       "    </tr>\n",
       "    <tr>\n",
       "      <th>1092</th>\n",
       "      <td>2018-12-29</td>\n",
       "      <td>18833.22</td>\n",
       "      <td>1</td>\n",
       "      <td>825</td>\n",
       "    </tr>\n",
       "    <tr>\n",
       "      <th>1093</th>\n",
       "      <td>2018-12-30</td>\n",
       "      <td>5777.70</td>\n",
       "      <td>1</td>\n",
       "      <td>257</td>\n",
       "    </tr>\n",
       "    <tr>\n",
       "      <th>1094</th>\n",
       "      <td>2018-12-31</td>\n",
       "      <td>5868.19</td>\n",
       "      <td>1</td>\n",
       "      <td>256</td>\n",
       "    </tr>\n",
       "  </tbody>\n",
       "</table>\n",
       "<p>1095 rows × 4 columns</p>\n",
       "</div>"
      ],
      "text/plain": [
       "            Date  KM Travelled  Holiday  Number of Orders\n",
       "0     2016-01-02       4093.96        1               181\n",
       "1     2016-01-03       4169.83        1               178\n",
       "2     2016-01-04        528.47        0                25\n",
       "3     2016-01-05       1242.83        0                47\n",
       "4     2016-01-06       2435.43        0               109\n",
       "...          ...           ...      ...               ...\n",
       "1090  2018-12-27       7098.07        0               318\n",
       "1091  2018-12-28      18581.99        0               843\n",
       "1092  2018-12-29      18833.22        1               825\n",
       "1093  2018-12-30       5777.70        1               257\n",
       "1094  2018-12-31       5868.19        1               256\n",
       "\n",
       "[1095 rows x 4 columns]"
      ]
     },
     "execution_count": 16,
     "metadata": {},
     "output_type": "execute_result"
    }
   ],
   "source": [
    "d = df1[['Date of Travel','KM Travelled']].groupby(by='Date of Travel').sum().reset_index()\n",
    "e = df1[['Date of Travel','KM Travelled']].groupby(by='Date of Travel').count().reset_index()\n",
    "df_KM = pd.DataFrame(data={'Date':df_holiday['Date of Travel'],'KM Travelled':d['KM Travelled'],'Holiday':df_holiday['Holiday?'],'Number of Orders':e['KM Travelled']})\n",
    "df_KM"
   ]
  },
  {
   "cell_type": "markdown",
   "metadata": {},
   "source": [
    "Then I grouped the new dataframe by whether the day is a holiday, showing the mean of travel distance and number of orders, then calculated average distance per order:"
   ]
  },
  {
   "cell_type": "code",
   "execution_count": 17,
   "metadata": {},
   "outputs": [
    {
     "data": {
      "text/html": [
       "<div>\n",
       "<style scoped>\n",
       "    .dataframe tbody tr th:only-of-type {\n",
       "        vertical-align: middle;\n",
       "    }\n",
       "\n",
       "    .dataframe tbody tr th {\n",
       "        vertical-align: top;\n",
       "    }\n",
       "\n",
       "    .dataframe thead th {\n",
       "        text-align: right;\n",
       "    }\n",
       "</style>\n",
       "<table border=\"1\" class=\"dataframe\">\n",
       "  <thead>\n",
       "    <tr style=\"text-align: right;\">\n",
       "      <th></th>\n",
       "      <th>KM Travelled</th>\n",
       "      <th>Number of Orders</th>\n",
       "      <th>Average KM per Order</th>\n",
       "    </tr>\n",
       "    <tr>\n",
       "      <th>Holiday</th>\n",
       "      <th></th>\n",
       "      <th></th>\n",
       "      <th></th>\n",
       "    </tr>\n",
       "  </thead>\n",
       "  <tbody>\n",
       "    <tr>\n",
       "      <th>0</th>\n",
       "      <td>6145.109558</td>\n",
       "      <td>272.467202</td>\n",
       "      <td>22.553575</td>\n",
       "    </tr>\n",
       "    <tr>\n",
       "      <th>1</th>\n",
       "      <td>10115.211897</td>\n",
       "      <td>447.870690</td>\n",
       "      <td>22.585117</td>\n",
       "    </tr>\n",
       "  </tbody>\n",
       "</table>\n",
       "</div>"
      ],
      "text/plain": [
       "         KM Travelled  Number of Orders  Average KM per Order\n",
       "Holiday                                                      \n",
       "0         6145.109558        272.467202             22.553575\n",
       "1        10115.211897        447.870690             22.585117"
      ]
     },
     "execution_count": 17,
     "metadata": {},
     "output_type": "execute_result"
    }
   ],
   "source": [
    "f = df_KM[['KM Travelled','Holiday','Number of Orders']].groupby(by='Holiday').mean()\n",
    "f['Average KM per Order'] = f['KM Travelled']/f['Number of Orders']\n",
    "f"
   ]
  },
  {
   "cell_type": "markdown",
   "metadata": {},
   "source": [
    "From the result, we can see that there are obviously more orders and further distance travelled in holidays, which conforms to our common sense. However, surprisingly the average distance per order are very close, and the difference is not large enough to prove the hypothesis. To further check this, I calculated the correlation between travel distance and holiday:"
   ]
  },
  {
   "cell_type": "code",
   "execution_count": 18,
   "metadata": {},
   "outputs": [
    {
     "data": {
      "text/html": [
       "<div>\n",
       "<style scoped>\n",
       "    .dataframe tbody tr th:only-of-type {\n",
       "        vertical-align: middle;\n",
       "    }\n",
       "\n",
       "    .dataframe tbody tr th {\n",
       "        vertical-align: top;\n",
       "    }\n",
       "\n",
       "    .dataframe thead th {\n",
       "        text-align: right;\n",
       "    }\n",
       "</style>\n",
       "<table border=\"1\" class=\"dataframe\">\n",
       "  <thead>\n",
       "    <tr style=\"text-align: right;\">\n",
       "      <th></th>\n",
       "      <th>KM Travelled</th>\n",
       "      <th>Holiday</th>\n",
       "    </tr>\n",
       "  </thead>\n",
       "  <tbody>\n",
       "    <tr>\n",
       "      <th>KM Travelled</th>\n",
       "      <td>1.000000</td>\n",
       "      <td>0.356598</td>\n",
       "    </tr>\n",
       "    <tr>\n",
       "      <th>Holiday</th>\n",
       "      <td>0.356598</td>\n",
       "      <td>1.000000</td>\n",
       "    </tr>\n",
       "  </tbody>\n",
       "</table>\n",
       "</div>"
      ],
      "text/plain": [
       "              KM Travelled   Holiday\n",
       "KM Travelled      1.000000  0.356598\n",
       "Holiday           0.356598  1.000000"
      ]
     },
     "execution_count": 18,
     "metadata": {},
     "output_type": "execute_result"
    }
   ],
   "source": [
    "df_KM[['KM Travelled','Holiday']].corr()"
   ]
  },
  {
   "cell_type": "markdown",
   "metadata": {},
   "source": [
    "From the result, the two variavles are positively weakly correlated, which seems like a good support of the hypothesis."
   ]
  },
  {
   "cell_type": "markdown",
   "metadata": {},
   "source": [
    "### Hypothesis 5: The price of taxi in each city is related to number of users and customers' income"
   ]
  },
  {
   "cell_type": "markdown",
   "metadata": {},
   "source": [
    "First Calculate average income of the customers in each city and combine all needed columns into a new dataframe"
   ]
  },
  {
   "cell_type": "code",
   "execution_count": 19,
   "metadata": {},
   "outputs": [
    {
     "name": "stderr",
     "output_type": "stream",
     "text": [
      "C:\\Users\\Ruizhe Zhang\\AppData\\Local\\Temp\\ipykernel_35920\\2690174151.py:4: SettingWithCopyWarning: \n",
      "A value is trying to be set on a copy of a slice from a DataFrame.\n",
      "Try using .loc[row_indexer,col_indexer] = value instead\n",
      "\n",
      "See the caveats in the documentation: https://pandas.pydata.org/pandas-docs/stable/user_guide/indexing.html#returning-a-view-versus-a-copy\n",
      "  df3['Users'] = g[0]+g[1]\n",
      "C:\\Users\\Ruizhe Zhang\\AppData\\Local\\Temp\\ipykernel_35920\\2690174151.py:5: SettingWithCopyWarning: \n",
      "A value is trying to be set on a copy of a slice from a DataFrame.\n",
      "Try using .loc[row_indexer,col_indexer] = value instead\n",
      "\n",
      "See the caveats in the documentation: https://pandas.pydata.org/pandas-docs/stable/user_guide/indexing.html#returning-a-view-versus-a-copy\n",
      "  df3['Users'] = pd.to_numeric(df3['Users'])\n"
     ]
    },
    {
     "data": {
      "text/html": [
       "<div>\n",
       "<style scoped>\n",
       "    .dataframe tbody tr th:only-of-type {\n",
       "        vertical-align: middle;\n",
       "    }\n",
       "\n",
       "    .dataframe tbody tr th {\n",
       "        vertical-align: top;\n",
       "    }\n",
       "\n",
       "    .dataframe thead th {\n",
       "        text-align: right;\n",
       "    }\n",
       "</style>\n",
       "<table border=\"1\" class=\"dataframe\">\n",
       "  <thead>\n",
       "    <tr style=\"text-align: right;\">\n",
       "      <th></th>\n",
       "      <th>Avg Price</th>\n",
       "      <th>Avg Income</th>\n",
       "      <th>Users</th>\n",
       "    </tr>\n",
       "    <tr>\n",
       "      <th>City</th>\n",
       "      <th></th>\n",
       "      <th></th>\n",
       "      <th></th>\n",
       "    </tr>\n",
       "  </thead>\n",
       "  <tbody>\n",
       "    <tr>\n",
       "      <th>NEW YORK NY</th>\n",
       "      <td>25.326314</td>\n",
       "      <td>15184.765801</td>\n",
       "      <td>302149</td>\n",
       "    </tr>\n",
       "    <tr>\n",
       "      <th>CHICAGO IL</th>\n",
       "      <td>15.480417</td>\n",
       "      <td>15101.718269</td>\n",
       "      <td>164468</td>\n",
       "    </tr>\n",
       "    <tr>\n",
       "      <th>LOS ANGELES CA</th>\n",
       "      <td>16.345221</td>\n",
       "      <td>15064.550455</td>\n",
       "      <td>144132</td>\n",
       "    </tr>\n",
       "    <tr>\n",
       "      <th>MIAMI FL</th>\n",
       "      <td>17.742867</td>\n",
       "      <td>14984.887202</td>\n",
       "      <td>17675</td>\n",
       "    </tr>\n",
       "    <tr>\n",
       "      <th>SILICON VALLEY</th>\n",
       "      <td>19.018356</td>\n",
       "      <td>15248.547717</td>\n",
       "      <td>27247</td>\n",
       "    </tr>\n",
       "    <tr>\n",
       "      <th>ORANGE COUNTY</th>\n",
       "      <td>17.504572</td>\n",
       "      <td>15188.944500</td>\n",
       "      <td>12994</td>\n",
       "    </tr>\n",
       "    <tr>\n",
       "      <th>SAN DIEGO CA</th>\n",
       "      <td>15.496902</td>\n",
       "      <td>15049.874854</td>\n",
       "      <td>69995</td>\n",
       "    </tr>\n",
       "    <tr>\n",
       "      <th>PHOENIX AZ</th>\n",
       "      <td>16.512413</td>\n",
       "      <td>15012.038275</td>\n",
       "      <td>6133</td>\n",
       "    </tr>\n",
       "    <tr>\n",
       "      <th>DALLAS TX</th>\n",
       "      <td>19.916270</td>\n",
       "      <td>14846.508194</td>\n",
       "      <td>22157</td>\n",
       "    </tr>\n",
       "    <tr>\n",
       "      <th>ATLANTA GA</th>\n",
       "      <td>17.671817</td>\n",
       "      <td>14933.150986</td>\n",
       "      <td>24701</td>\n",
       "    </tr>\n",
       "    <tr>\n",
       "      <th>DENVER CO</th>\n",
       "      <td>17.031976</td>\n",
       "      <td>14975.655163</td>\n",
       "      <td>12421</td>\n",
       "    </tr>\n",
       "    <tr>\n",
       "      <th>AUSTIN TX</th>\n",
       "      <td>17.188801</td>\n",
       "      <td>14696.495711</td>\n",
       "      <td>14978</td>\n",
       "    </tr>\n",
       "    <tr>\n",
       "      <th>SEATTLE WA</th>\n",
       "      <td>15.778072</td>\n",
       "      <td>14840.748281</td>\n",
       "      <td>25063</td>\n",
       "    </tr>\n",
       "    <tr>\n",
       "      <th>TUCSON AZ</th>\n",
       "      <td>15.558252</td>\n",
       "      <td>14942.952356</td>\n",
       "      <td>5712</td>\n",
       "    </tr>\n",
       "    <tr>\n",
       "      <th>SACRAMENTO CA</th>\n",
       "      <td>14.140271</td>\n",
       "      <td>15268.225180</td>\n",
       "      <td>7044</td>\n",
       "    </tr>\n",
       "    <tr>\n",
       "      <th>PITTSBURGH PA</th>\n",
       "      <td>14.897402</td>\n",
       "      <td>14410.332064</td>\n",
       "      <td>3643</td>\n",
       "    </tr>\n",
       "    <tr>\n",
       "      <th>WASHINGTON DC</th>\n",
       "      <td>16.548110</td>\n",
       "      <td>14727.430162</td>\n",
       "      <td>127001</td>\n",
       "    </tr>\n",
       "    <tr>\n",
       "      <th>NASHVILLE TN</th>\n",
       "      <td>14.037494</td>\n",
       "      <td>14734.359801</td>\n",
       "      <td>9270</td>\n",
       "    </tr>\n",
       "    <tr>\n",
       "      <th>BOSTON MA</th>\n",
       "      <td>15.453368</td>\n",
       "      <td>15128.563317</td>\n",
       "      <td>80021</td>\n",
       "    </tr>\n",
       "  </tbody>\n",
       "</table>\n",
       "</div>"
      ],
      "text/plain": [
       "                Avg Price    Avg Income   Users\n",
       "City                                           \n",
       "NEW YORK NY     25.326314  15184.765801  302149\n",
       "CHICAGO IL      15.480417  15101.718269  164468\n",
       "LOS ANGELES CA  16.345221  15064.550455  144132\n",
       "MIAMI FL        17.742867  14984.887202   17675\n",
       "SILICON VALLEY  19.018356  15248.547717   27247\n",
       "ORANGE COUNTY   17.504572  15188.944500   12994\n",
       "SAN DIEGO CA    15.496902  15049.874854   69995\n",
       "PHOENIX AZ      16.512413  15012.038275    6133\n",
       "DALLAS TX       19.916270  14846.508194   22157\n",
       "ATLANTA GA      17.671817  14933.150986   24701\n",
       "DENVER CO       17.031976  14975.655163   12421\n",
       "AUSTIN TX       17.188801  14696.495711   14978\n",
       "SEATTLE WA      15.778072  14840.748281   25063\n",
       "TUCSON AZ       15.558252  14942.952356    5712\n",
       "SACRAMENTO CA   14.140271  15268.225180    7044\n",
       "PITTSBURGH PA   14.897402  14410.332064    3643\n",
       "WASHINGTON DC   16.548110  14727.430162  127001\n",
       "NASHVILLE TN    14.037494  14734.359801    9270\n",
       "BOSTON MA       15.453368  15128.563317   80021"
      ]
     },
     "execution_count": 19,
     "metadata": {},
     "output_type": "execute_result"
    }
   ],
   "source": [
    "df2['Avg Income'] = df1.groupby(by='City').mean()['Income (USD/Month)']\n",
    "df3 = df2[['Avg Price','Avg Income']]\n",
    "g = df2['Users'].str.split(',',expand=True)\n",
    "df3['Users'] = g[0]+g[1]\n",
    "df3['Users'] = pd.to_numeric(df3['Users'])\n",
    "df3"
   ]
  },
  {
   "cell_type": "markdown",
   "metadata": {},
   "source": [
    "Then calculate the correlation matrix of these three columns:"
   ]
  },
  {
   "cell_type": "code",
   "execution_count": 20,
   "metadata": {},
   "outputs": [
    {
     "data": {
      "text/html": [
       "<div>\n",
       "<style scoped>\n",
       "    .dataframe tbody tr th:only-of-type {\n",
       "        vertical-align: middle;\n",
       "    }\n",
       "\n",
       "    .dataframe tbody tr th {\n",
       "        vertical-align: top;\n",
       "    }\n",
       "\n",
       "    .dataframe thead th {\n",
       "        text-align: right;\n",
       "    }\n",
       "</style>\n",
       "<table border=\"1\" class=\"dataframe\">\n",
       "  <thead>\n",
       "    <tr style=\"text-align: right;\">\n",
       "      <th></th>\n",
       "      <th>Avg Price</th>\n",
       "      <th>Avg Income</th>\n",
       "      <th>Users</th>\n",
       "    </tr>\n",
       "  </thead>\n",
       "  <tbody>\n",
       "    <tr>\n",
       "      <th>Avg Price</th>\n",
       "      <td>1.000000</td>\n",
       "      <td>0.272014</td>\n",
       "      <td>0.569216</td>\n",
       "    </tr>\n",
       "    <tr>\n",
       "      <th>Avg Income</th>\n",
       "      <td>0.272014</td>\n",
       "      <td>1.000000</td>\n",
       "      <td>0.296221</td>\n",
       "    </tr>\n",
       "    <tr>\n",
       "      <th>Users</th>\n",
       "      <td>0.569216</td>\n",
       "      <td>0.296221</td>\n",
       "      <td>1.000000</td>\n",
       "    </tr>\n",
       "  </tbody>\n",
       "</table>\n",
       "</div>"
      ],
      "text/plain": [
       "            Avg Price  Avg Income     Users\n",
       "Avg Price    1.000000    0.272014  0.569216\n",
       "Avg Income   0.272014    1.000000  0.296221\n",
       "Users        0.569216    0.296221  1.000000"
      ]
     },
     "execution_count": 20,
     "metadata": {},
     "output_type": "execute_result"
    }
   ],
   "source": [
    "df3.corr()"
   ]
  },
  {
   "cell_type": "markdown",
   "metadata": {},
   "source": [
    "From the result, the number of users are significantly positively related to average price, and average income is weakly positively related to average price, which can generally prove the hypothesis, but since the correlation between users and average price is not large enough, we can not sure whether they are related. "
   ]
  },
  {
   "cell_type": "markdown",
   "metadata": {},
   "source": [
    "# Recommendation"
   ]
  },
  {
   "attachments": {},
   "cell_type": "markdown",
   "metadata": {},
   "source": [
    "From the analysis, the recommendation of cab company is Yellow Cab Company, based on three main reasons: more popularity across the country; more revenue from each order; better control of costs."
   ]
  }
 ],
 "metadata": {
  "kernelspec": {
   "display_name": "Python 3 (ipykernel)",
   "language": "python",
   "name": "python3"
  },
  "language_info": {
   "codemirror_mode": {
    "name": "ipython",
    "version": 3
   },
   "file_extension": ".py",
   "mimetype": "text/x-python",
   "name": "python",
   "nbconvert_exporter": "python",
   "pygments_lexer": "ipython3",
   "version": "3.9.12"
  },
  "vscode": {
   "interpreter": {
    "hash": "c7c719d095d19778477622a3d34cd51b656f94558c867b27fd9e29b51046198c"
   }
  }
 },
 "nbformat": 4,
 "nbformat_minor": 2
}
