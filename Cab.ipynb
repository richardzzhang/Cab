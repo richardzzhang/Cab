{
 "cells": [
  {
   "cell_type": "code",
   "execution_count": null,
   "metadata": {},
   "outputs": [
    {
     "ename": "",
     "evalue": "",
     "output_type": "error",
     "traceback": [
      "\u001b[1;31mThe kernel failed to start as a dll could not be loaded.\n",
      "Click <a href='https://aka.ms/kernelFailuresDllLoad'>here</a> for more info."
     ]
    }
   ],
   "source": [
    "import pandas as pd\n",
    "import numpy as np\n",
    "import matplotlib.pyplot as plt\n",
    "from datetime import datetime\n",
    "from datetime import date,timedelta\n",
    "from datetime import date"
   ]
  },
  {
   "cell_type": "code",
   "execution_count": null,
   "metadata": {},
   "outputs": [
    {
     "ename": "AttributeError",
     "evalue": "module 'matplotlib.dates' has no attribute '_rcParam_helper'",
     "output_type": "error",
     "traceback": [
      "\u001b[1;31m---------------------------------------------------------------------------\u001b[0m",
      "\u001b[1;31mAttributeError\u001b[0m                            Traceback (most recent call last)",
      "\u001b[1;32m~\\AppData\\Local\\Temp/ipykernel_19344/2971697587.py\u001b[0m in \u001b[0;36m<module>\u001b[1;34m\u001b[0m\n\u001b[1;32m----> 1\u001b[1;33m \u001b[1;32mimport\u001b[0m \u001b[0mmatplotlib\u001b[0m\u001b[1;33m\u001b[0m\u001b[1;33m\u001b[0m\u001b[0m\n\u001b[0m",
      "\u001b[1;32md:\\Develop\\Python3.8\\lib\\site-packages\\matplotlib\\__init__.py\u001b[0m in \u001b[0;36m<module>\u001b[1;34m\u001b[0m\n\u001b[0;32m    820\u001b[0m \u001b[1;31m# by explicitly calling the superclass (dict.update, dict.items) to avoid\u001b[0m\u001b[1;33m\u001b[0m\u001b[1;33m\u001b[0m\u001b[1;33m\u001b[0m\u001b[0m\n\u001b[0;32m    821\u001b[0m \u001b[1;31m# triggering resolution of _auto_backend_sentinel.\u001b[0m\u001b[1;33m\u001b[0m\u001b[1;33m\u001b[0m\u001b[1;33m\u001b[0m\u001b[0m\n\u001b[1;32m--> 822\u001b[1;33m rcParamsDefault = _rc_params_in_file(\n\u001b[0m\u001b[0;32m    823\u001b[0m     \u001b[0mcbook\u001b[0m\u001b[1;33m.\u001b[0m\u001b[0m_get_data_path\u001b[0m\u001b[1;33m(\u001b[0m\u001b[1;34m\"matplotlibrc\"\u001b[0m\u001b[1;33m)\u001b[0m\u001b[1;33m,\u001b[0m\u001b[1;33m\u001b[0m\u001b[1;33m\u001b[0m\u001b[0m\n\u001b[0;32m    824\u001b[0m     \u001b[1;31m# Strip leading comment.\u001b[0m\u001b[1;33m\u001b[0m\u001b[1;33m\u001b[0m\u001b[1;33m\u001b[0m\u001b[0m\n",
      "\u001b[1;32md:\\Develop\\Python3.8\\lib\\site-packages\\matplotlib\\__init__.py\u001b[0m in \u001b[0;36m_rc_params_in_file\u001b[1;34m(fname, transform, fail_on_error)\u001b[0m\n\u001b[0;32m    757\u001b[0m         \u001b[1;32mif\u001b[0m \u001b[0mkey\u001b[0m \u001b[1;32min\u001b[0m \u001b[0mrcsetup\u001b[0m\u001b[1;33m.\u001b[0m\u001b[0m_validators\u001b[0m\u001b[1;33m:\u001b[0m\u001b[1;33m\u001b[0m\u001b[1;33m\u001b[0m\u001b[0m\n\u001b[0;32m    758\u001b[0m             \u001b[1;32mif\u001b[0m \u001b[0mfail_on_error\u001b[0m\u001b[1;33m:\u001b[0m\u001b[1;33m\u001b[0m\u001b[1;33m\u001b[0m\u001b[0m\n\u001b[1;32m--> 759\u001b[1;33m                 \u001b[0mconfig\u001b[0m\u001b[1;33m[\u001b[0m\u001b[0mkey\u001b[0m\u001b[1;33m]\u001b[0m \u001b[1;33m=\u001b[0m \u001b[0mval\u001b[0m  \u001b[1;31m# try to convert to proper type or raise\u001b[0m\u001b[1;33m\u001b[0m\u001b[1;33m\u001b[0m\u001b[0m\n\u001b[0m\u001b[0;32m    760\u001b[0m             \u001b[1;32melse\u001b[0m\u001b[1;33m:\u001b[0m\u001b[1;33m\u001b[0m\u001b[1;33m\u001b[0m\u001b[0m\n\u001b[0;32m    761\u001b[0m                 \u001b[1;32mtry\u001b[0m\u001b[1;33m:\u001b[0m\u001b[1;33m\u001b[0m\u001b[1;33m\u001b[0m\u001b[0m\n",
      "\u001b[1;32md:\\Develop\\Python3.8\\lib\\site-packages\\matplotlib\\__init__.py\u001b[0m in \u001b[0;36m__setitem__\u001b[1;34m(self, key, val)\u001b[0m\n\u001b[0;32m    593\u001b[0m                         \u001b[1;32mreturn\u001b[0m\u001b[1;33m\u001b[0m\u001b[1;33m\u001b[0m\u001b[0m\n\u001b[0;32m    594\u001b[0m             \u001b[1;32mtry\u001b[0m\u001b[1;33m:\u001b[0m\u001b[1;33m\u001b[0m\u001b[1;33m\u001b[0m\u001b[0m\n\u001b[1;32m--> 595\u001b[1;33m                 \u001b[0mcval\u001b[0m \u001b[1;33m=\u001b[0m \u001b[0mself\u001b[0m\u001b[1;33m.\u001b[0m\u001b[0mvalidate\u001b[0m\u001b[1;33m[\u001b[0m\u001b[0mkey\u001b[0m\u001b[1;33m]\u001b[0m\u001b[1;33m(\u001b[0m\u001b[0mval\u001b[0m\u001b[1;33m)\u001b[0m\u001b[1;33m\u001b[0m\u001b[1;33m\u001b[0m\u001b[0m\n\u001b[0m\u001b[0;32m    596\u001b[0m             \u001b[1;32mexcept\u001b[0m \u001b[0mValueError\u001b[0m \u001b[1;32mas\u001b[0m \u001b[0mve\u001b[0m\u001b[1;33m:\u001b[0m\u001b[1;33m\u001b[0m\u001b[1;33m\u001b[0m\u001b[0m\n\u001b[0;32m    597\u001b[0m                 \u001b[1;32mraise\u001b[0m \u001b[0mValueError\u001b[0m\u001b[1;33m(\u001b[0m\u001b[1;34mf\"Key {key}: {ve}\"\u001b[0m\u001b[1;33m)\u001b[0m \u001b[1;32mfrom\u001b[0m \u001b[1;32mNone\u001b[0m\u001b[1;33m\u001b[0m\u001b[1;33m\u001b[0m\u001b[0m\n",
      "\u001b[1;32md:\\Develop\\Python3.8\\lib\\site-packages\\matplotlib\\rcsetup.py\u001b[0m in \u001b[0;36m_validate_date_converter\u001b[1;34m(s)\u001b[0m\n\u001b[0;32m    171\u001b[0m         \u001b[1;32mreturn\u001b[0m\u001b[1;33m\u001b[0m\u001b[1;33m\u001b[0m\u001b[0m\n\u001b[0;32m    172\u001b[0m     \u001b[1;32mimport\u001b[0m \u001b[0mmatplotlib\u001b[0m\u001b[1;33m.\u001b[0m\u001b[0mdates\u001b[0m \u001b[1;32mas\u001b[0m \u001b[0mmdates\u001b[0m\u001b[1;33m\u001b[0m\u001b[1;33m\u001b[0m\u001b[0m\n\u001b[1;32m--> 173\u001b[1;33m     \u001b[0mmdates\u001b[0m\u001b[1;33m.\u001b[0m\u001b[0m_rcParam_helper\u001b[0m\u001b[1;33m.\u001b[0m\u001b[0mset_converter\u001b[0m\u001b[1;33m(\u001b[0m\u001b[0ms\u001b[0m\u001b[1;33m)\u001b[0m\u001b[1;33m\u001b[0m\u001b[1;33m\u001b[0m\u001b[0m\n\u001b[0m\u001b[0;32m    174\u001b[0m \u001b[1;33m\u001b[0m\u001b[0m\n\u001b[0;32m    175\u001b[0m \u001b[1;33m\u001b[0m\u001b[0m\n",
      "\u001b[1;31mAttributeError\u001b[0m: module 'matplotlib.dates' has no attribute '_rcParam_helper'"
     ]
    },
    {
     "ename": "",
     "evalue": "",
     "output_type": "error",
     "traceback": [
      "\u001b[1;31mThe kernel failed to start as a dll could not be loaded.\n",
      "Click <a href='https://aka.ms/kernelFailuresDllLoad'>here</a> for more info."
     ]
    },
    {
     "ename": "",
     "evalue": "",
     "output_type": "error",
     "traceback": [
      "\u001b[1;31mThe kernel failed to start as a dll could not be loaded.\n",
      "Click <a href='https://aka.ms/kernelFailuresDllLoad'>here</a> for more info."
     ]
    },
    {
     "ename": "",
     "evalue": "",
     "output_type": "error",
     "traceback": [
      "\u001b[1;31mThe kernel failed to start as a dll could not be loaded.\n",
      "Click <a href='https://aka.ms/kernelFailuresDllLoad'>here</a> for more info."
     ]
    }
   ],
   "source": [
    "import matplotlib"
   ]
  },
  {
   "cell_type": "code",
   "execution_count": null,
   "metadata": {},
   "outputs": [
    {
     "ename": "",
     "evalue": "",
     "output_type": "error",
     "traceback": [
      "\u001b[1;31mThe kernel failed to start as a dll could not be loaded.\n",
      "Click <a href='https://aka.ms/kernelFailuresDllLoad'>here</a> for more info."
     ]
    },
    {
     "ename": "",
     "evalue": "",
     "output_type": "error",
     "traceback": [
      "\u001b[1;31mThe kernel failed to start as a dll could not be loaded.\n",
      "Click <a href='https://aka.ms/kernelFailuresDllLoad'>here</a> for more info."
     ]
    },
    {
     "ename": "",
     "evalue": "",
     "output_type": "error",
     "traceback": [
      "\u001b[1;31mThe kernel failed to start as a dll could not be loaded.\n",
      "Click <a href='https://aka.ms/kernelFailuresDllLoad'>here</a> for more info."
     ]
    }
   ],
   "source": [
    "df_cab = pd.read_csv('Cab_Data.csv')\n",
    "df_city = pd.read_csv('City.csv')\n",
    "df_cusid = pd.read_csv('Customer_ID.csv')\n",
    "df_transid = pd.read_csv('Transaction_ID.csv')\n",
    "df_holiday= pd.read_csv('Holiday.csv')"
   ]
  },
  {
   "cell_type": "code",
   "execution_count": null,
   "metadata": {},
   "outputs": [
    {
     "name": "stderr",
     "output_type": "stream",
     "text": [
      "C:\\Users\\Ruizhe Zhang\\AppData\\Local\\Temp/ipykernel_15648/4241785755.py:2: SettingWithCopyWarning: \n",
      "A value is trying to be set on a copy of a slice from a DataFrame\n",
      "\n",
      "See the caveats in the documentation: https://pandas.pydata.org/pandas-docs/stable/user_guide/indexing.html#returning-a-view-versus-a-copy\n",
      "  df_cab['Date of Travel'][i] = date(1900,1,1)+timedelta(int(df_cab['Date of Travel'][i])-2)\n"
     ]
    },
    {
     "data": {
      "text/html": [
       "<div>\n",
       "<style scoped>\n",
       "    .dataframe tbody tr th:only-of-type {\n",
       "        vertical-align: middle;\n",
       "    }\n",
       "\n",
       "    .dataframe tbody tr th {\n",
       "        vertical-align: top;\n",
       "    }\n",
       "\n",
       "    .dataframe thead th {\n",
       "        text-align: right;\n",
       "    }\n",
       "</style>\n",
       "<table border=\"1\" class=\"dataframe\">\n",
       "  <thead>\n",
       "    <tr style=\"text-align: right;\">\n",
       "      <th></th>\n",
       "      <th>Transaction ID</th>\n",
       "      <th>Date of Travel</th>\n",
       "      <th>Company</th>\n",
       "      <th>City</th>\n",
       "      <th>KM Travelled</th>\n",
       "      <th>Price Charged</th>\n",
       "      <th>Cost of Trip</th>\n",
       "    </tr>\n",
       "  </thead>\n",
       "  <tbody>\n",
       "    <tr>\n",
       "      <th>0</th>\n",
       "      <td>10000011</td>\n",
       "      <td>2016-01-08</td>\n",
       "      <td>Pink Cab</td>\n",
       "      <td>ATLANTA GA</td>\n",
       "      <td>30.45</td>\n",
       "      <td>370.95</td>\n",
       "      <td>313.635</td>\n",
       "    </tr>\n",
       "    <tr>\n",
       "      <th>1</th>\n",
       "      <td>10000012</td>\n",
       "      <td>2016-01-06</td>\n",
       "      <td>Pink Cab</td>\n",
       "      <td>ATLANTA GA</td>\n",
       "      <td>28.62</td>\n",
       "      <td>358.52</td>\n",
       "      <td>334.854</td>\n",
       "    </tr>\n",
       "    <tr>\n",
       "      <th>2</th>\n",
       "      <td>10000013</td>\n",
       "      <td>2016-01-02</td>\n",
       "      <td>Pink Cab</td>\n",
       "      <td>ATLANTA GA</td>\n",
       "      <td>9.04</td>\n",
       "      <td>125.20</td>\n",
       "      <td>97.632</td>\n",
       "    </tr>\n",
       "    <tr>\n",
       "      <th>3</th>\n",
       "      <td>10000014</td>\n",
       "      <td>2016-01-07</td>\n",
       "      <td>Pink Cab</td>\n",
       "      <td>ATLANTA GA</td>\n",
       "      <td>33.17</td>\n",
       "      <td>377.40</td>\n",
       "      <td>351.602</td>\n",
       "    </tr>\n",
       "    <tr>\n",
       "      <th>4</th>\n",
       "      <td>10000015</td>\n",
       "      <td>2016-01-03</td>\n",
       "      <td>Pink Cab</td>\n",
       "      <td>ATLANTA GA</td>\n",
       "      <td>8.73</td>\n",
       "      <td>114.62</td>\n",
       "      <td>97.776</td>\n",
       "    </tr>\n",
       "  </tbody>\n",
       "</table>\n",
       "</div>"
      ],
      "text/plain": [
       "   Transaction ID Date of Travel   Company        City  KM Travelled  \\\n",
       "0        10000011     2016-01-08  Pink Cab  ATLANTA GA         30.45   \n",
       "1        10000012     2016-01-06  Pink Cab  ATLANTA GA         28.62   \n",
       "2        10000013     2016-01-02  Pink Cab  ATLANTA GA          9.04   \n",
       "3        10000014     2016-01-07  Pink Cab  ATLANTA GA         33.17   \n",
       "4        10000015     2016-01-03  Pink Cab  ATLANTA GA          8.73   \n",
       "\n",
       "   Price Charged  Cost of Trip  \n",
       "0         370.95       313.635  \n",
       "1         358.52       334.854  \n",
       "2         125.20        97.632  \n",
       "3         377.40       351.602  \n",
       "4         114.62        97.776  "
      ]
     },
     "execution_count": 106,
     "metadata": {},
     "output_type": "execute_result"
    },
    {
     "ename": "",
     "evalue": "",
     "output_type": "error",
     "traceback": [
      "\u001b[1;31mThe kernel failed to start as a dll could not be loaded.\n",
      "Click <a href='https://aka.ms/kernelFailuresDllLoad'>here</a> for more info."
     ]
    },
    {
     "ename": "",
     "evalue": "",
     "output_type": "error",
     "traceback": [
      "\u001b[1;31mThe kernel failed to start as a dll could not be loaded.\n",
      "Click <a href='https://aka.ms/kernelFailuresDllLoad'>here</a> for more info."
     ]
    },
    {
     "ename": "",
     "evalue": "",
     "output_type": "error",
     "traceback": [
      "\u001b[1;31mThe kernel failed to start as a dll could not be loaded.\n",
      "Click <a href='https://aka.ms/kernelFailuresDllLoad'>here</a> for more info."
     ]
    }
   ],
   "source": [
    "for i in range(359392):\n",
    "    df_cab['Date of Travel'][i] = date(1900,1,1)+timedelta(int(df_cab['Date of Travel'][i])-2)\n",
    "df_cab.head(5)"
   ]
  },
  {
   "cell_type": "code",
   "execution_count": null,
   "metadata": {},
   "outputs": [
    {
     "data": {
      "text/html": [
       "<div>\n",
       "<style scoped>\n",
       "    .dataframe tbody tr th:only-of-type {\n",
       "        vertical-align: middle;\n",
       "    }\n",
       "\n",
       "    .dataframe tbody tr th {\n",
       "        vertical-align: top;\n",
       "    }\n",
       "\n",
       "    .dataframe thead th {\n",
       "        text-align: right;\n",
       "    }\n",
       "</style>\n",
       "<table border=\"1\" class=\"dataframe\">\n",
       "  <thead>\n",
       "    <tr style=\"text-align: right;\">\n",
       "      <th></th>\n",
       "      <th>Transaction ID</th>\n",
       "      <th>Date of Travel</th>\n",
       "      <th>Company</th>\n",
       "      <th>City</th>\n",
       "      <th>KM Travelled</th>\n",
       "      <th>Price Charged</th>\n",
       "      <th>Cost of Trip</th>\n",
       "      <th>Customer ID</th>\n",
       "      <th>Payment_Mode</th>\n",
       "      <th>Gender</th>\n",
       "      <th>Age</th>\n",
       "      <th>Income (USD/Month)</th>\n",
       "      <th>Revenue</th>\n",
       "    </tr>\n",
       "  </thead>\n",
       "  <tbody>\n",
       "    <tr>\n",
       "      <th>0</th>\n",
       "      <td>10000011</td>\n",
       "      <td>2016-01-08</td>\n",
       "      <td>Pink Cab</td>\n",
       "      <td>ATLANTA GA</td>\n",
       "      <td>30.45</td>\n",
       "      <td>370.95</td>\n",
       "      <td>313.635</td>\n",
       "      <td>29290</td>\n",
       "      <td>Card</td>\n",
       "      <td>Male</td>\n",
       "      <td>28</td>\n",
       "      <td>10813</td>\n",
       "      <td>57.315</td>\n",
       "    </tr>\n",
       "    <tr>\n",
       "      <th>1</th>\n",
       "      <td>10000012</td>\n",
       "      <td>2016-01-06</td>\n",
       "      <td>Pink Cab</td>\n",
       "      <td>ATLANTA GA</td>\n",
       "      <td>28.62</td>\n",
       "      <td>358.52</td>\n",
       "      <td>334.854</td>\n",
       "      <td>27703</td>\n",
       "      <td>Card</td>\n",
       "      <td>Male</td>\n",
       "      <td>27</td>\n",
       "      <td>9237</td>\n",
       "      <td>23.666</td>\n",
       "    </tr>\n",
       "    <tr>\n",
       "      <th>2</th>\n",
       "      <td>10000013</td>\n",
       "      <td>2016-01-02</td>\n",
       "      <td>Pink Cab</td>\n",
       "      <td>ATLANTA GA</td>\n",
       "      <td>9.04</td>\n",
       "      <td>125.20</td>\n",
       "      <td>97.632</td>\n",
       "      <td>28712</td>\n",
       "      <td>Cash</td>\n",
       "      <td>Male</td>\n",
       "      <td>53</td>\n",
       "      <td>11242</td>\n",
       "      <td>27.568</td>\n",
       "    </tr>\n",
       "    <tr>\n",
       "      <th>3</th>\n",
       "      <td>10000014</td>\n",
       "      <td>2016-01-07</td>\n",
       "      <td>Pink Cab</td>\n",
       "      <td>ATLANTA GA</td>\n",
       "      <td>33.17</td>\n",
       "      <td>377.40</td>\n",
       "      <td>351.602</td>\n",
       "      <td>28020</td>\n",
       "      <td>Cash</td>\n",
       "      <td>Male</td>\n",
       "      <td>23</td>\n",
       "      <td>23327</td>\n",
       "      <td>25.798</td>\n",
       "    </tr>\n",
       "    <tr>\n",
       "      <th>4</th>\n",
       "      <td>10000015</td>\n",
       "      <td>2016-01-03</td>\n",
       "      <td>Pink Cab</td>\n",
       "      <td>ATLANTA GA</td>\n",
       "      <td>8.73</td>\n",
       "      <td>114.62</td>\n",
       "      <td>97.776</td>\n",
       "      <td>27182</td>\n",
       "      <td>Card</td>\n",
       "      <td>Male</td>\n",
       "      <td>33</td>\n",
       "      <td>8536</td>\n",
       "      <td>16.844</td>\n",
       "    </tr>\n",
       "  </tbody>\n",
       "</table>\n",
       "</div>"
      ],
      "text/plain": [
       "   Transaction ID Date of Travel   Company        City  KM Travelled  \\\n",
       "0        10000011     2016-01-08  Pink Cab  ATLANTA GA         30.45   \n",
       "1        10000012     2016-01-06  Pink Cab  ATLANTA GA         28.62   \n",
       "2        10000013     2016-01-02  Pink Cab  ATLANTA GA          9.04   \n",
       "3        10000014     2016-01-07  Pink Cab  ATLANTA GA         33.17   \n",
       "4        10000015     2016-01-03  Pink Cab  ATLANTA GA          8.73   \n",
       "\n",
       "   Price Charged  Cost of Trip  Customer ID Payment_Mode Gender  Age  \\\n",
       "0         370.95       313.635        29290         Card   Male   28   \n",
       "1         358.52       334.854        27703         Card   Male   27   \n",
       "2         125.20        97.632        28712         Cash   Male   53   \n",
       "3         377.40       351.602        28020         Cash   Male   23   \n",
       "4         114.62        97.776        27182         Card   Male   33   \n",
       "\n",
       "   Income (USD/Month)  Revenue  \n",
       "0               10813   57.315  \n",
       "1                9237   23.666  \n",
       "2               11242   27.568  \n",
       "3               23327   25.798  \n",
       "4                8536   16.844  "
      ]
     },
     "execution_count": 107,
     "metadata": {},
     "output_type": "execute_result"
    },
    {
     "ename": "",
     "evalue": "",
     "output_type": "error",
     "traceback": [
      "\u001b[1;31mThe kernel failed to start as a dll could not be loaded.\n",
      "Click <a href='https://aka.ms/kernelFailuresDllLoad'>here</a> for more info."
     ]
    },
    {
     "ename": "",
     "evalue": "",
     "output_type": "error",
     "traceback": [
      "\u001b[1;31mThe kernel failed to start as a dll could not be loaded.\n",
      "Click <a href='https://aka.ms/kernelFailuresDllLoad'>here</a> for more info."
     ]
    },
    {
     "ename": "",
     "evalue": "",
     "output_type": "error",
     "traceback": [
      "\u001b[1;31mThe kernel failed to start as a dll could not be loaded.\n",
      "Click <a href='https://aka.ms/kernelFailuresDllLoad'>here</a> for more info."
     ]
    }
   ],
   "source": [
    "df1 = df_cab.merge(df_transid, how='left', on='Transaction ID').merge(df_cusid, how='left', on='Customer ID').dropna()\n",
    "df1['Revenue']=df1['Price Charged']-df1['Cost of Trip']\n",
    "df1.head()"
   ]
  },
  {
   "cell_type": "code",
   "execution_count": null,
   "metadata": {},
   "outputs": [
    {
     "data": {
      "text/html": [
       "<div>\n",
       "<style scoped>\n",
       "    .dataframe tbody tr th:only-of-type {\n",
       "        vertical-align: middle;\n",
       "    }\n",
       "\n",
       "    .dataframe tbody tr th {\n",
       "        vertical-align: top;\n",
       "    }\n",
       "\n",
       "    .dataframe thead th {\n",
       "        text-align: right;\n",
       "    }\n",
       "</style>\n",
       "<table border=\"1\" class=\"dataframe\">\n",
       "  <thead>\n",
       "    <tr style=\"text-align: right;\">\n",
       "      <th></th>\n",
       "      <th>Population</th>\n",
       "      <th>Users</th>\n",
       "      <th>KM Travelled</th>\n",
       "      <th>Price Charged</th>\n",
       "      <th>Revenue</th>\n",
       "      <th>Number of Rides</th>\n",
       "      <th>Avg Price</th>\n",
       "    </tr>\n",
       "    <tr>\n",
       "      <th>City</th>\n",
       "      <th></th>\n",
       "      <th></th>\n",
       "      <th></th>\n",
       "      <th></th>\n",
       "      <th></th>\n",
       "      <th></th>\n",
       "      <th></th>\n",
       "    </tr>\n",
       "  </thead>\n",
       "  <tbody>\n",
       "    <tr>\n",
       "      <th>NEW YORK NY</th>\n",
       "      <td>8,405,837</td>\n",
       "      <td>302,149</td>\n",
       "      <td>2248809.74</td>\n",
       "      <td>56954061.67</td>\n",
       "      <td>2.796256e+07</td>\n",
       "      <td>99885.0</td>\n",
       "      <td>25.326314</td>\n",
       "    </tr>\n",
       "    <tr>\n",
       "      <th>CHICAGO IL</th>\n",
       "      <td>1,955,130</td>\n",
       "      <td>164,468</td>\n",
       "      <td>1281704.39</td>\n",
       "      <td>19841318.52</td>\n",
       "      <td>3.387313e+06</td>\n",
       "      <td>56625.0</td>\n",
       "      <td>15.480417</td>\n",
       "    </tr>\n",
       "    <tr>\n",
       "      <th>LOS ANGELES CA</th>\n",
       "      <td>1,595,037</td>\n",
       "      <td>144,132</td>\n",
       "      <td>1088735.65</td>\n",
       "      <td>17795624.41</td>\n",
       "      <td>4.411709e+06</td>\n",
       "      <td>48033.0</td>\n",
       "      <td>16.345221</td>\n",
       "    </tr>\n",
       "    <tr>\n",
       "      <th>MIAMI FL</th>\n",
       "      <td>1,339,155</td>\n",
       "      <td>17,675</td>\n",
       "      <td>145418.17</td>\n",
       "      <td>2580135.20</td>\n",
       "      <td>7.583012e+05</td>\n",
       "      <td>6454.0</td>\n",
       "      <td>17.742867</td>\n",
       "    </tr>\n",
       "    <tr>\n",
       "      <th>SILICON VALLEY</th>\n",
       "      <td>1,177,609</td>\n",
       "      <td>27,247</td>\n",
       "      <td>193712.97</td>\n",
       "      <td>3684102.15</td>\n",
       "      <td>1.316705e+06</td>\n",
       "      <td>8519.0</td>\n",
       "      <td>19.018356</td>\n",
       "    </tr>\n",
       "    <tr>\n",
       "      <th>ORANGE COUNTY</th>\n",
       "      <td>1,030,185</td>\n",
       "      <td>12,994</td>\n",
       "      <td>88826.69</td>\n",
       "      <td>1554873.21</td>\n",
       "      <td>4.570019e+05</td>\n",
       "      <td>3982.0</td>\n",
       "      <td>17.504572</td>\n",
       "    </tr>\n",
       "    <tr>\n",
       "      <th>SAN DIEGO CA</th>\n",
       "      <td>959,307</td>\n",
       "      <td>69,995</td>\n",
       "      <td>460503.69</td>\n",
       "      <td>7136380.59</td>\n",
       "      <td>1.587163e+06</td>\n",
       "      <td>20488.0</td>\n",
       "      <td>15.496902</td>\n",
       "    </tr>\n",
       "    <tr>\n",
       "      <th>PHOENIX AZ</th>\n",
       "      <td>943,999</td>\n",
       "      <td>6,133</td>\n",
       "      <td>45825.08</td>\n",
       "      <td>756682.64</td>\n",
       "      <td>1.929409e+05</td>\n",
       "      <td>2064.0</td>\n",
       "      <td>16.512413</td>\n",
       "    </tr>\n",
       "    <tr>\n",
       "      <th>DALLAS TX</th>\n",
       "      <td>942,908</td>\n",
       "      <td>22,157</td>\n",
       "      <td>157782.05</td>\n",
       "      <td>3142429.91</td>\n",
       "      <td>1.128733e+06</td>\n",
       "      <td>7017.0</td>\n",
       "      <td>19.916270</td>\n",
       "    </tr>\n",
       "    <tr>\n",
       "      <th>ATLANTA GA</th>\n",
       "      <td>814,885</td>\n",
       "      <td>24,701</td>\n",
       "      <td>168643.76</td>\n",
       "      <td>2980241.72</td>\n",
       "      <td>8.424329e+05</td>\n",
       "      <td>7557.0</td>\n",
       "      <td>17.671817</td>\n",
       "    </tr>\n",
       "    <tr>\n",
       "      <th>DENVER CO</th>\n",
       "      <td>754,233</td>\n",
       "      <td>12,421</td>\n",
       "      <td>85869.75</td>\n",
       "      <td>1462531.51</td>\n",
       "      <td>3.975850e+05</td>\n",
       "      <td>3825.0</td>\n",
       "      <td>17.031976</td>\n",
       "    </tr>\n",
       "    <tr>\n",
       "      <th>AUSTIN TX</th>\n",
       "      <td>698,371</td>\n",
       "      <td>14,978</td>\n",
       "      <td>109207.30</td>\n",
       "      <td>1877142.50</td>\n",
       "      <td>5.267010e+05</td>\n",
       "      <td>4896.0</td>\n",
       "      <td>17.188801</td>\n",
       "    </tr>\n",
       "    <tr>\n",
       "      <th>SEATTLE WA</th>\n",
       "      <td>671,238</td>\n",
       "      <td>25,063</td>\n",
       "      <td>180903.99</td>\n",
       "      <td>2854316.26</td>\n",
       "      <td>6.046849e+05</td>\n",
       "      <td>7997.0</td>\n",
       "      <td>15.778072</td>\n",
       "    </tr>\n",
       "    <tr>\n",
       "      <th>TUCSON AZ</th>\n",
       "      <td>631,442</td>\n",
       "      <td>5,712</td>\n",
       "      <td>43229.81</td>\n",
       "      <td>672580.26</td>\n",
       "      <td>1.402607e+05</td>\n",
       "      <td>1931.0</td>\n",
       "      <td>15.558252</td>\n",
       "    </tr>\n",
       "    <tr>\n",
       "      <th>SACRAMENTO CA</th>\n",
       "      <td>545,776</td>\n",
       "      <td>7,044</td>\n",
       "      <td>53861.20</td>\n",
       "      <td>761611.95</td>\n",
       "      <td>1.173262e+05</td>\n",
       "      <td>2367.0</td>\n",
       "      <td>14.140271</td>\n",
       "    </tr>\n",
       "    <tr>\n",
       "      <th>PITTSBURGH PA</th>\n",
       "      <td>542,085</td>\n",
       "      <td>3,643</td>\n",
       "      <td>29705.76</td>\n",
       "      <td>442538.64</td>\n",
       "      <td>8.516596e+04</td>\n",
       "      <td>1313.0</td>\n",
       "      <td>14.897402</td>\n",
       "    </tr>\n",
       "    <tr>\n",
       "      <th>WASHINGTON DC</th>\n",
       "      <td>418,859</td>\n",
       "      <td>127,001</td>\n",
       "      <td>989037.66</td>\n",
       "      <td>16366703.83</td>\n",
       "      <td>3.492870e+06</td>\n",
       "      <td>43737.0</td>\n",
       "      <td>16.548110</td>\n",
       "    </tr>\n",
       "    <tr>\n",
       "      <th>NASHVILLE TN</th>\n",
       "      <td>327,225</td>\n",
       "      <td>9,270</td>\n",
       "      <td>68324.74</td>\n",
       "      <td>959108.13</td>\n",
       "      <td>1.495322e+05</td>\n",
       "      <td>3010.0</td>\n",
       "      <td>14.037494</td>\n",
       "    </tr>\n",
       "    <tr>\n",
       "      <th>BOSTON MA</th>\n",
       "      <td>248,968</td>\n",
       "      <td>80,021</td>\n",
       "      <td>670388.18</td>\n",
       "      <td>10359755.42</td>\n",
       "      <td>1.768719e+06</td>\n",
       "      <td>29692.0</td>\n",
       "      <td>15.453368</td>\n",
       "    </tr>\n",
       "  </tbody>\n",
       "</table>\n",
       "</div>"
      ],
      "text/plain": [
       "                 Population      Users  KM Travelled  Price Charged  \\\n",
       "City                                                                  \n",
       "NEW YORK NY      8,405,837    302,149     2248809.74    56954061.67   \n",
       "CHICAGO IL       1,955,130    164,468     1281704.39    19841318.52   \n",
       "LOS ANGELES CA   1,595,037    144,132     1088735.65    17795624.41   \n",
       "MIAMI FL         1,339,155     17,675      145418.17     2580135.20   \n",
       "SILICON VALLEY   1,177,609     27,247      193712.97     3684102.15   \n",
       "ORANGE COUNTY    1,030,185     12,994       88826.69     1554873.21   \n",
       "SAN DIEGO CA       959,307     69,995      460503.69     7136380.59   \n",
       "PHOENIX AZ         943,999      6,133       45825.08      756682.64   \n",
       "DALLAS TX          942,908     22,157      157782.05     3142429.91   \n",
       "ATLANTA GA         814,885     24,701      168643.76     2980241.72   \n",
       "DENVER CO          754,233     12,421       85869.75     1462531.51   \n",
       "AUSTIN TX          698,371     14,978      109207.30     1877142.50   \n",
       "SEATTLE WA         671,238     25,063      180903.99     2854316.26   \n",
       "TUCSON AZ          631,442      5,712       43229.81      672580.26   \n",
       "SACRAMENTO CA      545,776      7,044       53861.20      761611.95   \n",
       "PITTSBURGH PA      542,085      3,643       29705.76      442538.64   \n",
       "WASHINGTON DC      418,859    127,001      989037.66    16366703.83   \n",
       "NASHVILLE TN       327,225      9,270       68324.74      959108.13   \n",
       "BOSTON MA          248,968     80,021      670388.18    10359755.42   \n",
       "\n",
       "                     Revenue  Number of Rides  Avg Price  \n",
       "City                                                      \n",
       "NEW YORK NY     2.796256e+07          99885.0  25.326314  \n",
       "CHICAGO IL      3.387313e+06          56625.0  15.480417  \n",
       "LOS ANGELES CA  4.411709e+06          48033.0  16.345221  \n",
       "MIAMI FL        7.583012e+05           6454.0  17.742867  \n",
       "SILICON VALLEY  1.316705e+06           8519.0  19.018356  \n",
       "ORANGE COUNTY   4.570019e+05           3982.0  17.504572  \n",
       "SAN DIEGO CA    1.587163e+06          20488.0  15.496902  \n",
       "PHOENIX AZ      1.929409e+05           2064.0  16.512413  \n",
       "DALLAS TX       1.128733e+06           7017.0  19.916270  \n",
       "ATLANTA GA      8.424329e+05           7557.0  17.671817  \n",
       "DENVER CO       3.975850e+05           3825.0  17.031976  \n",
       "AUSTIN TX       5.267010e+05           4896.0  17.188801  \n",
       "SEATTLE WA      6.046849e+05           7997.0  15.778072  \n",
       "TUCSON AZ       1.402607e+05           1931.0  15.558252  \n",
       "SACRAMENTO CA   1.173262e+05           2367.0  14.140271  \n",
       "PITTSBURGH PA   8.516596e+04           1313.0  14.897402  \n",
       "WASHINGTON DC   3.492870e+06          43737.0  16.548110  \n",
       "NASHVILLE TN    1.495322e+05           3010.0  14.037494  \n",
       "BOSTON MA       1.768719e+06          29692.0  15.453368  "
      ]
     },
     "execution_count": 108,
     "metadata": {},
     "output_type": "execute_result"
    },
    {
     "ename": "",
     "evalue": "",
     "output_type": "error",
     "traceback": [
      "\u001b[1;31mThe kernel failed to start as a dll could not be loaded.\n",
      "Click <a href='https://aka.ms/kernelFailuresDllLoad'>here</a> for more info."
     ]
    },
    {
     "ename": "",
     "evalue": "",
     "output_type": "error",
     "traceback": [
      "\u001b[1;31mThe kernel failed to start as a dll could not be loaded.\n",
      "Click <a href='https://aka.ms/kernelFailuresDllLoad'>here</a> for more info."
     ]
    },
    {
     "ename": "",
     "evalue": "",
     "output_type": "error",
     "traceback": [
      "\u001b[1;31mThe kernel failed to start as a dll could not be loaded.\n",
      "Click <a href='https://aka.ms/kernelFailuresDllLoad'>here</a> for more info."
     ]
    }
   ],
   "source": [
    "df_tmp = df1[['City','KM Travelled','Price Charged','Revenue']].groupby(by='City').sum()\n",
    "df_tmp\n",
    "df_tmp['Number of Rides'] = df1.groupby(by='City').count()['Transaction ID']\n",
    "df2 = df_city.merge(df_tmp,how='left',on='City').set_index('City').dropna()\n",
    "df2['Avg Price'] = df2['Price Charged']/df2['KM Travelled']\n",
    "df2"
   ]
  },
  {
   "cell_type": "markdown",
   "metadata": {},
   "source": [
    "Hypothesis 1: "
   ]
  },
  {
   "cell_type": "code",
   "execution_count": null,
   "metadata": {},
   "outputs": [
    {
     "data": {
      "image/png": "[encoded data removed]",
      "text/plain": [
       "<Figure size 1440x720 with 1 Axes>"
      ]
     },
     "metadata": {
      "needs_background": "light"
     },
     "output_type": "display_data"
    },
    {
     "ename": "",
     "evalue": "",
     "output_type": "error",
     "traceback": [
      "\u001b[1;31mThe kernel failed to start as a dll could not be loaded.\n",
      "Click <a href='https://aka.ms/kernelFailuresDllLoad'>here</a> for more info."
     ]
    },
    {
     "ename": "",
     "evalue": "",
     "output_type": "error",
     "traceback": [
      "\u001b[1;31mThe kernel failed to start as a dll could not be loaded.\n",
      "Click <a href='https://aka.ms/kernelFailuresDllLoad'>here</a> for more info."
     ]
    },
    {
     "ename": "",
     "evalue": "",
     "output_type": "error",
     "traceback": [
      "\u001b[1;31mThe kernel failed to start as a dll could not be loaded.\n",
      "Click <a href='https://aka.ms/kernelFailuresDllLoad'>here</a> for more info."
     ]
    }
   ],
   "source": [
    "# age and # of customers\n",
    "age_interval = ['18-24','24-30','30-36','36-42','42-48','48-54','54-60','60+']\n",
    "a = df1[['Customer ID','Age','Gender']].drop_duplicates(subset='Customer ID')[['Age','Gender']]\n",
    "age_m = a[a.Gender=='Male'].groupby(by=pd.cut(a[a.Gender=='Male']['Age'], np.arange(18, 67, 6))).count()['Age']\n",
    "age_f = a[a.Gender=='Female'].groupby(by=pd.cut(a[a.Gender=='Female']['Age'], np.arange(18, 67, 6))).count()['Age']\n",
    "age_t = age_m + age_f\n",
    "x = np.arange(len(age_interval))\n",
    "width = 0.25\n",
    "fig1, ax1 = plt.subplots(figsize=(20,10))\n",
    "rects1 = ax1.bar(x - width, age_m, width, label='Men', color='blue')\n",
    "rects2 = ax1.bar(x, age_f, width, label='Women', color='red')\n",
    "rects3 = ax1.bar(x + width, age_t, width, label='Total',color='green')\n",
    "ax1.set_ylabel('Number')\n",
    "ax1.set_title('Age of Customers')\n",
    "ax1.set_xticks(x)\n",
    "ax1.set_yticks(np.arange(0,9001,1000))\n",
    "ax1.set_xticklabels(age_interval)\n",
    "ax1.legend()\n",
    "ax1.bar_label(rects1, padding=3)\n",
    "ax1.bar_label(rects2, padding=3)\n",
    "ax1.bar_label(rects3, padding=3)\n",
    "plt.show()"
   ]
  },
  {
   "cell_type": "code",
   "execution_count": null,
   "metadata": {},
   "outputs": [
    {
     "data": {
      "image/png": "[encoded data removed]",
      "text/plain": [
       "<Figure size 864x504 with 1 Axes>"
      ]
     },
     "metadata": {
      "needs_background": "light"
     },
     "output_type": "display_data"
    },
    {
     "ename": "",
     "evalue": "",
     "output_type": "error",
     "traceback": [
      "\u001b[1;31mThe kernel failed to start as a dll could not be loaded.\n",
      "Click <a href='https://aka.ms/kernelFailuresDllLoad'>here</a> for more info."
     ]
    },
    {
     "ename": "",
     "evalue": "",
     "output_type": "error",
     "traceback": [
      "\u001b[1;31mThe kernel failed to start as a dll could not be loaded.\n",
      "Click <a href='https://aka.ms/kernelFailuresDllLoad'>here</a> for more info."
     ]
    },
    {
     "ename": "",
     "evalue": "",
     "output_type": "error",
     "traceback": [
      "\u001b[1;31mThe kernel failed to start as a dll could not be loaded.\n",
      "Click <a href='https://aka.ms/kernelFailuresDllLoad'>here</a> for more info."
     ]
    }
   ],
   "source": [
    "# age and avg times of taking the cab\n",
    "df_ageavg = df1.groupby(by=pd.cut(df1['Age'], np.arange(18, 67, 6))).count()\n",
    "df_ageavg[\"Average times\"] = (df_ageavg[\"Age\"]/age_t).round(3)\n",
    "fig2, ax2 = plt.subplots(figsize=(12,7))\n",
    "x = np.arange(len(age_interval))\n",
    "rects4 = ax2.bar(x, df_ageavg[\"Average times\"], width=0.5, label='Total',color=\"orange\")\n",
    "ax2.set_ylabel('Number')\n",
    "ax2.set_title('Age of Customers')\n",
    "ax2.set_xticks(x)\n",
    "ax2.set_yticks(np.arange(0,10,0.5))\n",
    "ax2.set_xticklabels(age_interval)\n",
    "ax2.bar_label(rects4, padding=3)\n",
    "plt.show()"
   ]
  },
  {
   "cell_type": "code",
   "execution_count": null,
   "metadata": {},
   "outputs": [
    {
     "data": {
      "text/html": [
       "<div>\n",
       "<style scoped>\n",
       "    .dataframe tbody tr th:only-of-type {\n",
       "        vertical-align: middle;\n",
       "    }\n",
       "\n",
       "    .dataframe tbody tr th {\n",
       "        vertical-align: top;\n",
       "    }\n",
       "\n",
       "    .dataframe thead th {\n",
       "        text-align: right;\n",
       "    }\n",
       "</style>\n",
       "<table border=\"1\" class=\"dataframe\">\n",
       "  <thead>\n",
       "    <tr style=\"text-align: right;\">\n",
       "      <th></th>\n",
       "      <th>Age</th>\n",
       "      <th>Times</th>\n",
       "    </tr>\n",
       "  </thead>\n",
       "  <tbody>\n",
       "    <tr>\n",
       "      <th>Age</th>\n",
       "      <td>1.000000</td>\n",
       "      <td>-0.001462</td>\n",
       "    </tr>\n",
       "    <tr>\n",
       "      <th>Times</th>\n",
       "      <td>-0.001462</td>\n",
       "      <td>1.000000</td>\n",
       "    </tr>\n",
       "  </tbody>\n",
       "</table>\n",
       "</div>"
      ],
      "text/plain": [
       "            Age     Times\n",
       "Age    1.000000 -0.001462\n",
       "Times -0.001462  1.000000"
      ]
     },
     "execution_count": 197,
     "metadata": {},
     "output_type": "execute_result"
    },
    {
     "ename": "",
     "evalue": "",
     "output_type": "error",
     "traceback": [
      "\u001b[1;31mThe kernel failed to start as a dll could not be loaded.\n",
      "Click <a href='https://aka.ms/kernelFailuresDllLoad'>here</a> for more info."
     ]
    },
    {
     "ename": "",
     "evalue": "",
     "output_type": "error",
     "traceback": [
      "\u001b[1;31mThe kernel failed to start as a dll could not be loaded.\n",
      "Click <a href='https://aka.ms/kernelFailuresDllLoad'>here</a> for more info."
     ]
    },
    {
     "ename": "",
     "evalue": "",
     "output_type": "error",
     "traceback": [
      "\u001b[1;31mThe kernel failed to start as a dll could not be loaded.\n",
      "Click <a href='https://aka.ms/kernelFailuresDllLoad'>here</a> for more info."
     ]
    }
   ],
   "source": [
    "# Correlation between times and age\n",
    "b = df1[['Customer ID','Age']].drop_duplicates(subset='Customer ID').sort_values(by='Customer ID').reset_index().drop('index',axis=1)\n",
    "b['Times'] = df1.groupby(by='Customer ID').count().reset_index()['Age']\n",
    "b[['Age','Times']].corr()"
   ]
  },
  {
   "cell_type": "code",
   "execution_count": null,
   "metadata": {},
   "outputs": [
    {
     "ename": "",
     "evalue": "",
     "output_type": "error",
     "traceback": [
      "\u001b[1;31mThe kernel failed to start as a dll could not be loaded.\n",
      "Click <a href='https://aka.ms/kernelFailuresDllLoad'>here</a> for more info."
     ]
    },
    {
     "ename": "",
     "evalue": "",
     "output_type": "error",
     "traceback": [
      "\u001b[1;31mThe kernel failed to start as a dll could not be loaded.\n",
      "Click <a href='https://aka.ms/kernelFailuresDllLoad'>here</a> for more info."
     ]
    },
    {
     "ename": "",
     "evalue": "",
     "output_type": "error",
     "traceback": [
      "\u001b[1;31mThe kernel failed to start as a dll could not be loaded.\n",
      "Click <a href='https://aka.ms/kernelFailuresDllLoad'>here</a> for more info."
     ]
    }
   ],
   "source": []
  }
 ],
 "metadata": {
  "kernelspec": {
   "display_name": "Python 3.9.12 ('base')",
   "language": "python",
   "name": "python3"
  },
  "language_info": {
   "codemirror_mode": {
    "name": "ipython",
    "version": 3
   },
   "file_extension": ".py",
   "mimetype": "text/x-python",
   "name": "python",
   "nbconvert_exporter": "python",
   "pygments_lexer": "ipython3",
   "version": "3.9.12"
  },
  "orig_nbformat": 4,
  "vscode": {
   "interpreter": {
    "hash": "c7c719d095d19778477622a3d34cd51b656f94558c867b27fd9e29b51046198c"
   }
  }
 },
 "nbformat": 4,
 "nbformat_minor": 2
}
