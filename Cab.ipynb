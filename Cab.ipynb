{
 "cells": [
  {
   "cell_type": "code",
   "execution_count": 1,
   "metadata": {},
   "outputs": [],
   "source": [
    "import pandas as pd\n",
    "import numpy as np\n",
    "import matplotlib.pyplot as plt"
   ]
  },
  {
   "cell_type": "code",
   "execution_count": 3,
   "metadata": {},
   "outputs": [],
   "source": [
    "df_cab = pd.read_csv('Cab_Data.csv')\n",
    "df_city = pd.read_csv('City.csv')\n",
    "df_cusid = pd.read_csv('Customer_ID.csv')\n",
    "df_transid = pd.read_csv('Transaction_ID.csv')"
   ]
  },
  {
   "cell_type": "code",
   "execution_count": 12,
   "metadata": {},
   "outputs": [
    {
     "data": {
      "text/plain": [
       "0        1970-01-01 00:00:00.000042377\n",
       "1        1970-01-01 00:00:00.000042375\n",
       "2        1970-01-01 00:00:00.000042371\n",
       "3        1970-01-01 00:00:00.000042376\n",
       "4        1970-01-01 00:00:00.000042372\n",
       "                      ...             \n",
       "359387   1970-01-01 00:00:00.000043108\n",
       "359388   1970-01-01 00:00:00.000043104\n",
       "359389   1970-01-01 00:00:00.000043105\n",
       "359390   1970-01-01 00:00:00.000043105\n",
       "359391   1970-01-01 00:00:00.000043102\n",
       "Name: Date of Travel, Length: 359392, dtype: datetime64[ns]"
      ]
     },
     "execution_count": 12,
     "metadata": {},
     "output_type": "execute_result"
    }
   ],
   "source": [
    "pd.to_datetime(df_cab['Date of Travel'])"
   ]
  }
 ],
 "metadata": {
  "interpreter": {
   "hash": "41be6942999681777e9e1b630affd146517e912d19cfe79c61565f5579c643ba"
  },
  "kernelspec": {
   "display_name": "Python 3.8.2 64-bit",
   "language": "python",
   "name": "python3"
  },
  "language_info": {
   "codemirror_mode": {
    "name": "ipython",
    "version": 3
   },
   "file_extension": ".py",
   "mimetype": "text/x-python",
   "name": "python",
   "nbconvert_exporter": "python",
   "pygments_lexer": "ipython3",
   "version": "3.8.2"
  },
  "orig_nbformat": 4
 },
 "nbformat": 4,
 "nbformat_minor": 2
}
